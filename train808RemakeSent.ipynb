{
 "cells": [
  {
   "cell_type": "code",
   "execution_count": 1,
   "metadata": {
    "scrolled": true
   },
   "outputs": [],
   "source": [
    "#\n",
    "#   mnist_ae2.py   date. 7/4/2016\n",
    "#   \n",
    "#   Autoencoder tutorial code - trial of convolutional AE\n",
    "#\n",
    "from __future__ import absolute_import\n",
    "from __future__ import division\n",
    "from __future__ import print_function\n",
    "\n",
    "import numpy as np\n",
    "import matplotlib as mpl\n",
    "mpl.use('Agg')\n",
    "import matplotlib.pyplot as plt\n",
    "import tensorflow as tf\n",
    "\n",
    "from tensorflow.examples.tutorials.mnist import input_data\n",
    "from my_nn_lib import Convolution2D, MaxPooling2D\n",
    "from my_nn_lib import FullConnected, ReadOutLayer\n",
    "%matplotlib inline\n",
    "\n",
    "# Up-sampling 2-D Layer (deconvolutoinal Layer)\n",
    "class Conv2Dtranspose(object):\n",
    "    '''\n",
    "      constructor's args:\n",
    "          input      : input image (2D matrix)\n",
    "          output_siz : output image size\n",
    "          in_ch      : number of incoming image channel\n",
    "          out_ch     : number of outgoing image channel\n",
    "          patch_siz  : filter(patch) size\n",
    "    '''\n",
    "    def __init__(self, input, output_siz, in_ch, out_ch, patch_siz, activation='relu'):\n",
    "        self.input = input      \n",
    "        self.rows = output_siz[0]\n",
    "        self.cols = output_siz[1]\n",
    "        self.out_ch = out_ch\n",
    "        self.activation = activation\n",
    "        \n",
    "        wshape = [patch_siz[0], patch_siz[1], out_ch, in_ch]    # note the arguments order\n",
    "        \n",
    "        w_cvt = tf.Variable(tf.truncated_normal(wshape, stddev=0.1), \n",
    "                            trainable=True)\n",
    "        b_cvt = tf.Variable(tf.constant(0.1, shape=[out_ch]), \n",
    "                            trainable=True)\n",
    "        self.batsiz = tf.shape(input)[0]\n",
    "        self.w = w_cvt\n",
    "        self.b = b_cvt\n",
    "        self.params = [self.w, self.b]\n",
    "        \n",
    "    def output(self):\n",
    "        shape4D = [self.batsiz, self.rows, self.cols, self.out_ch]      \n",
    "        linout = tf.nn.conv2d_transpose(self.input, self.w, output_shape=shape4D,\n",
    "                            strides=[1, 2, 2, 1], padding='SAME') + self.b\n",
    "        if self.activation == 'relu':\n",
    "            self.output = tf.nn.relu(linout)\n",
    "        elif self.activation == 'sigmoid':\n",
    "            self.output = tf.sigmoid(linout)\n",
    "        else:\n",
    "            self.output = linout\n",
    "        \n",
    "        return self.output\n",
    "\n",
    "# Create the model\n",
    "def model(X, w_e, b_e, w_d, b_d):\n",
    "    encoded = tf.sigmoid(tf.matmul(X, w_e) + b_e)\n",
    "    decoded = tf.sigmoid(tf.matmul(encoded, w_d) + b_d)\n",
    "    \n",
    "    return encoded, decoded\n",
    "\n",
    "def encoding_CNN(x_inp, starting_channels=3):\n",
    "    conv00 = Convolution2D(x_inp, (64, 64), starting_channels, 4, \n",
    "                          (5, 5), activation='relu')\n",
    "    conv00_out = conv00.output()\n",
    "    \n",
    "    conv0 = Convolution2D(conv00_out, (64, 64), 4, 4, \n",
    "                          (3, 3), activation='relu')\n",
    "    conv0_out = conv0.output()\n",
    "    \n",
    "    pool0 = MaxPooling2D(conv0_out)\n",
    "    pool0_out = pool0.output()\n",
    "    \n",
    "    conv1 = Convolution2D(pool0_out, (32, 32), 4, 8, \n",
    "                          (3, 3), activation='relu')\n",
    "    conv1_out = conv1.output()\n",
    "    \n",
    "    pool1 = MaxPooling2D(conv1_out)\n",
    "    pool1_out = pool1.output()\n",
    "    \n",
    "    conv2 = Convolution2D(pool1_out, (16, 16), 8, 16, \n",
    "                          (3, 3), activation='relu')\n",
    "    conv2_out = conv2.output()\n",
    "    \n",
    "    pool2 = MaxPooling2D(conv2_out)\n",
    "    pool2_out = pool2.output()\n",
    "\n",
    "    conv3 = Convolution2D(pool2_out, (8, 8), 16, 16, (3, 3), activation='relu')\n",
    "    conv3_out = conv3.output()\n",
    "\n",
    "    pool3 = MaxPooling2D(conv3_out)\n",
    "    pool3_out = pool3.output()\n",
    "    \n",
    "    return pool3_out\n",
    "\n",
    "def mk_nn_model(x, sentp=None, y=None, bs=8):\n",
    "    # Encoding phase\n",
    "    x_image = x #tf.reshape(x, [-1, 64, 64, 1])\n",
    "    if y==None:\n",
    "        y=x\n",
    "    \n",
    "    enc_inp = encoding_CNN(x_image)\n",
    "    \n",
    "    # at this point the representation is (16, 4, 4) i.e. 128*2-dimensional\n",
    "    \n",
    "    \n",
    "    flatenned = tf.contrib.layers.flatten(enc_inp)\n",
    "    if sentp!=None:\n",
    "        flatenned = tf.concat([flatenned, sentp],1)\n",
    "    flatenned = tf.layers.dense(flatenned, 128*2, activation=tf.nn.relu)\n",
    "    flatenned = tf.layers.dense(flatenned, 128*2, activation=tf.nn.relu)\n",
    "    \n",
    "    net = tf.reshape(flatenned, [bs, 4, 4, 16])\n",
    "    \n",
    "    # Decoding phase\n",
    "    conv_t1 = Conv2Dtranspose(net, (8, 8), 16, 16,\n",
    "                         (3, 3), activation='relu')\n",
    "    conv_t1_out = conv_t1.output()\n",
    "\n",
    "    conv_t2 = Conv2Dtranspose(conv_t1_out, (16, 16), 16, 8,\n",
    "                         (3, 3), activation='relu')\n",
    "    conv_t2_out = conv_t2.output()\n",
    "\n",
    "    conv_t3 = Conv2Dtranspose(conv_t2_out, (32, 32), 8, 4, \n",
    "                         (3, 3), activation='relu')\n",
    "    conv_t3_out = conv_t3.output()\n",
    "\n",
    "    conv_t35 = Conv2Dtranspose(conv_t3_out, (64, 64), 4, 4, \n",
    "                         (3, 3), activation='relu')\n",
    "    conv_t35_out = conv_t35.output()\n",
    "\n",
    "    conv_last = Convolution2D(conv_t35_out, (64, 64), 4, 3, (5, 5),\n",
    "                         activation='sigmoid')\n",
    "    decoded = conv_last.output()\n",
    "\n",
    "#     decoded = tf.reshape(decoded, [-1, 64*64])\n",
    "    dec_cross_entropy = -1. *y *tf.log(decoded + 1e-30) - (1. - y) *tf.log(1. - decoded + 1e-30)\n",
    "    dec_loss = tf.reduce_mean(dec_cross_entropy)\n",
    "    \n",
    "    \n",
    "    \n",
    "    both_imgs = tf.concat([x, decoded],3)\n",
    "    both_enc = encoding_CNN(both_imgs, starting_channels=6)\n",
    "    \n",
    "    flatenned = tf.contrib.layers.flatten(both_enc)\n",
    "    flatenned = tf.layers.dense(flatenned, 32, activation=tf.nn.relu)\n",
    "    flatenned = tf.layers.dense(flatenned, 10, activation=None)\n",
    "    \n",
    "    pred_color = tf.slice(flatenned, [0,0],[-1,3])\n",
    "    pred_shape = tf.slice(flatenned, [0,3],[-1,3])\n",
    "    pred_direc = tf.slice(flatenned, [0,6],[-1,4])\n",
    "    \n",
    "    true_color = tf.slice(sentp, [0,0],[-1,3])\n",
    "    true_shape = tf.slice(sentp, [0,3],[-1,3])\n",
    "    true_direc = tf.slice(sentp, [0,6],[-1,4])\n",
    "    \n",
    "    color_loss = tf.nn.softmax_cross_entropy_with_logits(labels = true_color, logits = pred_color)\n",
    "    shape_loss = tf.nn.softmax_cross_entropy_with_logits(labels = true_shape, logits = pred_shape)\n",
    "    direc_loss = tf.nn.softmax_cross_entropy_with_logits(labels = true_direc, logits = pred_direc)\n",
    "    sent_loss = tf.reduce_mean(color_loss+shape_loss+direc_loss)/3\n",
    "    \n",
    "#     sent_pred = tf.concat([color,shape,direc],axis=1)\n",
    "    \n",
    "#     sent_cross_entropy = -1. *sentp *tf.log(sent_pred + 1e-30) - (1. - sentp) *tf.log(1. - sent_pred + 1e-30)\n",
    "#     sent_loss = tf.reduce_mean(sent_cross_entropy)\n",
    "    \n",
    "    loss = (4*dec_loss + sent_loss)/5\n",
    "       \n",
    "    return loss, decoded, dec_loss, sent_loss\n"
   ]
  },
  {
   "cell_type": "code",
   "execution_count": 2,
   "metadata": {
    "scrolled": true
   },
   "outputs": [],
   "source": [
    "bs=8\n",
    "hs=64\n",
    "\n",
    "x = tf.placeholder(tf.float32, [None, 64, 64, 3])\n",
    "y = tf.placeholder(tf.float32, [None, 64, 64, 3])\n",
    "sentp = tf.placeholder(tf.float32, [None, 10])\n",
    "\n",
    "\n",
    "loss, decoded, dec_loss, sent_loss = mk_nn_model(x, y=y, sentp=sentp, bs=bs)\n",
    "train_step = tf.train.AdamOptimizer(0.0001).minimize(loss)\n"
   ]
  },
  {
   "cell_type": "code",
   "execution_count": 3,
   "metadata": {},
   "outputs": [],
   "source": [
    "# len(mnist.train.images)"
   ]
  },
  {
   "cell_type": "code",
   "execution_count": 4,
   "metadata": {},
   "outputs": [],
   "source": [
    "sentences = np.load('sentences_64.npy')\n",
    "original_imgs = np.load('original_imgs_64.npy')\n",
    "translated_imgs = np.load('translated_imgs_64.npy')\n",
    "\n",
    "sentences_float = np.array(sentences, dtype=np.float32)\n",
    "original_imgs_float = np.array(original_imgs, dtype=np.float32)\n",
    "translated_imgs_float = np.array(translated_imgs, dtype=np.float32)"
   ]
  },
  {
   "cell_type": "code",
   "execution_count": 5,
   "metadata": {},
   "outputs": [],
   "source": [
    "\n",
    "\n",
    "# onesar = np.ones((55000, hs, hs, 3))\n",
    "# onesar[:,hs//2:,hs//2:,0:2] = 0\n",
    "\n",
    "# onesar = onesar.reshape(55000, hs*hs)\n",
    "# onesar = mnist.train.images"
   ]
  },
  {
   "cell_type": "code",
   "execution_count": 6,
   "metadata": {},
   "outputs": [],
   "source": [
    "train_max = 95000\n",
    "\n",
    "input_img = original_imgs_float[:train_max] #np.array([original_imgs_float[0] for i in range(55000)])\n",
    "output_img = translated_imgs_float[:train_max]\n",
    "sent_inp = sentences_float[:train_max]\n",
    "\n",
    "input_test = original_imgs_float[train_max:]\n",
    "output_test = translated_imgs_float[train_max:]\n",
    "sent_test = sentences_float[train_max:]\n"
   ]
  },
  {
   "cell_type": "code",
   "execution_count": 7,
   "metadata": {},
   "outputs": [],
   "source": [
    "config = tf.ConfigProto()\n",
    "config.gpu_options.per_process_gpu_memory_fraction = 0.3\n",
    "\n",
    "sess =  tf.Session(config=config)\n",
    "sess.run(tf.global_variables_initializer())\n",
    "j=0"
   ]
  },
  {
   "cell_type": "code",
   "execution_count": 26,
   "metadata": {
    "scrolled": true
   },
   "outputs": [
    {
     "name": "stdout",
     "output_type": "stream",
     "text": [
      "Training...\n",
      "  step, loss =       0: 0.04900\n",
      "  step, loss =     500: 0.05068\n",
      "  step, loss =    1000: 0.04607\n",
      "  step, loss =    1500: 0.05753\n",
      "  step, loss =    2000: 0.04834\n",
      "  step, loss =    2500: 0.04268\n",
      "  step, loss =    3000: 0.05263\n",
      "  step, loss =    3500: 0.04835\n",
      "  step, loss =    4000: 0.04542\n",
      "  step, loss =    4500: 0.05490\n",
      "  step, loss =    5000: 0.04851\n",
      "  step, loss =    5500: 0.05412\n",
      "  step, loss =    6000: 0.04453\n",
      "  step, loss =    6500: 0.04535\n",
      "  step, loss =    7000: 0.04440\n",
      "  step, loss =    7500: 0.04122\n",
      "  step, loss =    8000: 0.04588\n",
      "  step, loss =    8500: 0.04438\n",
      "  step, loss =    9000: 0.05040\n",
      "  step, loss =    9500: 0.04825\n",
      "  step, loss =   10000: 0.05124\n",
      "  step, loss =   10500: 0.04670\n",
      "  step, loss =   11000: 0.04226\n",
      "  step, loss =   11500: 0.04307\n",
      "  step, loss =   12000: 0.04508\n",
      "  step, loss =   12500: 0.05429\n",
      "  step, loss =   13000: 0.04572\n",
      "  step, loss =   13500: 0.04546\n",
      "  step, loss =   14000: 0.03815\n",
      "  step, loss =   14500: 0.04144\n",
      "  step, loss =   15000: 0.04298\n",
      "  step, loss =   15500: 0.04162\n",
      "  step, loss =   16000: 0.04476\n",
      "  step, loss =   16500: 0.03948\n",
      "  step, loss =   17000: 0.04204\n",
      "  step, loss =   17500: 0.04019\n",
      "  step, loss =   18000: 0.03687\n",
      "  step, loss =   18500: 0.04132\n",
      "  step, loss =   19000: 0.04044\n",
      "  step, loss =   19500: 0.05510\n",
      "  step, loss =   20000: 0.03530\n",
      "  step, loss =   20500: 0.03976\n",
      "  step, loss =   21000: 0.04070\n",
      "  step, loss =   21500: 0.04010\n",
      "  step, loss =   22000: 0.03490\n",
      "  step, loss =   22500: 0.03414\n",
      "  step, loss =   23000: 0.03678\n",
      "  step, loss =   23500: 0.03778\n",
      "  step, loss =   24000: 0.04137\n",
      "  step, loss =   24500: 0.04279\n",
      "  step, loss =   25000: 0.04278\n",
      "  step, loss =   25500: 0.03720\n",
      "  step, loss =   26000: 0.03799\n",
      "  step, loss =   26500: 0.03577\n",
      "  step, loss =   27000: 0.03953\n",
      "  step, loss =   27500: 0.04362\n",
      "  step, loss =   28000: 0.04016\n",
      "  step, loss =   28500: 0.04265\n",
      "  step, loss =   29000: 0.03387\n",
      "  step, loss =   29500: 0.04276\n",
      "  step, loss =   30000: 0.03850\n",
      "  step, loss =   30500: 0.03480\n",
      "  step, loss =   31000: 0.04069\n",
      "  step, loss =   31500: 0.04139\n",
      "  step, loss =   32000: 0.03523\n",
      "  step, loss =   32500: 0.02980\n",
      "  step, loss =   33000: 0.03740\n",
      "  step, loss =   33500: 0.04175\n",
      "  step, loss =   34000: 0.03502\n",
      "  step, loss =   34500: 0.03219\n",
      "  step, loss =   35000: 0.03073\n",
      "  step, loss =   35500: 0.05598\n",
      "  step, loss =   36000: 0.04270\n",
      "  step, loss =   36500: 0.03990\n",
      "  step, loss =   37000: 0.04032\n",
      "  step, loss =   37500: 0.04125\n",
      "  step, loss =   38000: 0.03948\n",
      "  step, loss =   38500: 0.03571\n",
      "  step, loss =   39000: 0.03717\n",
      "  step, loss =   39500: 0.03258\n",
      "  step, loss =   40000: 0.04140\n",
      "  step, loss =   40500: 0.04236\n",
      "  step, loss =   41000: 0.03815\n",
      "  step, loss =   41500: 0.03190\n",
      "  step, loss =   42000: 0.03701\n",
      "  step, loss =   42500: 0.03472\n",
      "  step, loss =   43000: 0.03480\n",
      "  step, loss =   43500: 0.03553\n",
      "  step, loss =   44000: 0.04046\n",
      "  step, loss =   44500: 0.03564\n",
      "  step, loss =   45000: 0.03882\n",
      "  step, loss =   45500: 0.03370\n",
      "  step, loss =   46000: 0.03425\n",
      "  step, loss =   46500: 0.03197\n",
      "  step, loss =   47000: 0.03329\n",
      "  step, loss =   47500: 0.03279\n",
      "  step, loss =   48000: 0.03912\n",
      "  step, loss =   48500: 0.05251\n",
      "  step, loss =   49000: 0.03995\n",
      "  step, loss =   49500: 0.03498\n",
      "  step, loss =   50000: 0.03097\n",
      "  step, loss =   50500: 0.03596\n",
      "  step, loss =   51000: 0.03400\n",
      "  step, loss =   51500: 0.03724\n",
      "  step, loss =   52000: 0.02905\n",
      "  step, loss =   52500: 0.03621\n",
      "  step, loss =   53000: 0.03271\n",
      "  step, loss =   53500: 0.04536\n",
      "  step, loss =   54000: 0.03657\n",
      "  step, loss =   54500: 0.03561\n",
      "  step, loss =   55000: 0.03677\n",
      "  step, loss =   55500: 0.03601\n",
      "  step, loss =   56000: 0.03578\n",
      "  step, loss =   56500: 0.03191\n",
      "  step, loss =   57000: 0.03501\n",
      "  step, loss =   57500: 0.03194\n",
      "  step, loss =   58000: 0.03317\n",
      "  step, loss =   58500: 0.03526\n",
      "  step, loss =   59000: 0.03548\n",
      "  step, loss =   59500: 0.03792\n",
      "  step, loss =   60000: 0.03348\n",
      "  step, loss =   60500: 0.03484\n",
      "  step, loss =   61000: 0.03407\n",
      "  step, loss =   61500: 0.03304\n",
      "  step, loss =   62000: 0.02803\n",
      "  step, loss =   62500: 0.03962\n",
      "  step, loss =   63000: 0.03558\n",
      "  step, loss =   63500: 0.03239\n",
      "  step, loss =   64000: 0.03384\n",
      "  step, loss =   64500: 0.03380\n",
      "  step, loss =   65000: 0.03211\n",
      "  step, loss =   65500: 0.03648\n",
      "  step, loss =   66000: 0.03251\n",
      "  step, loss =   66500: 0.02895\n",
      "  step, loss =   67000: 0.05062\n",
      "  step, loss =   67500: 0.04222\n",
      "  step, loss =   68000: 0.03079\n",
      "  step, loss =   68500: 0.03343\n",
      "  step, loss =   69000: 0.03144\n",
      "  step, loss =   69500: 0.03100\n",
      "  step, loss =   70000: 0.02996\n",
      "  step, loss =   70500: 0.02749\n",
      "  step, loss =   71000: 0.02853\n",
      "  step, loss =   71500: 0.03235\n",
      "  step, loss =   72000: 0.04095\n",
      "  step, loss =   72500: 0.03608\n",
      "  step, loss =   73000: 0.03005\n",
      "  step, loss =   73500: 0.03000\n",
      "  step, loss =   74000: 0.03587\n",
      "  step, loss =   74500: 0.02843\n",
      "  step, loss =   75000: 0.02865\n",
      "  step, loss =   75500: 0.03009\n",
      "  step, loss =   76000: 0.02637\n",
      "  step, loss =   76500: 0.03179\n",
      "  step, loss =   77000: 0.04082\n",
      "  step, loss =   77500: 0.03700\n",
      "  step, loss =   78000: 0.03340\n",
      "  step, loss =   78500: 0.03020\n",
      "  step, loss =   79000: 0.02908\n",
      "  step, loss =   79500: 0.03381\n",
      "  step, loss =   80000: 0.03280\n",
      "  step, loss =   80500: 0.02623\n",
      "  step, loss =   81000: 0.02945\n",
      "  step, loss =   81500: 0.02892\n",
      "  step, loss =   82000: 0.03162\n",
      "  step, loss =   82500: 0.02900\n",
      "  step, loss =   83000: 0.04229\n",
      "  step, loss =   83500: 0.03730\n",
      "  step, loss =   84000: 0.03018\n",
      "  step, loss =   84500: 0.03072\n",
      "  step, loss =   85000: 0.02916\n",
      "  step, loss =   85500: 0.03393\n",
      "  step, loss =   86000: 0.03700\n",
      "  step, loss =   86500: 0.02951\n",
      "  step, loss =   87000: 0.03304\n",
      "  step, loss =   87500: 0.03132\n",
      "  step, loss =   88000: 0.03329\n",
      "  step, loss =   88500: 0.03673\n",
      "  step, loss =   89000: 0.02509\n",
      "  step, loss =   89500: 0.02971\n",
      "  step, loss =   90000: 0.03227\n",
      "  step, loss =   90500: 0.03239\n",
      "  step, loss =   91000: 0.03053\n",
      "  step, loss =   91500: 0.03902\n",
      "  step, loss =   92000: 0.03006\n",
      "  step, loss =   92500: 0.02988\n",
      "  step, loss =   93000: 0.02720\n",
      "  step, loss =   93500: 0.02798\n",
      "  step, loss =   94000: 0.02959\n",
      "  step, loss =   94500: 0.02550\n",
      "  step, loss =   95000: 0.02691\n",
      "  step, loss =   95500: 0.02885\n",
      "  step, loss =   96000: 0.04767\n",
      "  step, loss =   96500: 0.03686\n",
      "  step, loss =   97000: 0.03866\n",
      "  step, loss =   97500: 0.03435\n",
      "  step, loss =   98000: 0.02635\n",
      "  step, loss =   98500: 0.02600\n",
      "  step, loss =   99000: 0.02856\n",
      "  step, loss =   99500: 0.02839\n",
      "  step, loss =  100000: 0.02421\n",
      "  step, loss =  100500: 0.02454\n",
      "  step, loss =  101000: 0.02821\n",
      "  step, loss =  101500: 0.02475\n",
      "  step, loss =  102000: 0.04016\n",
      "  step, loss =  102500: 0.03345\n",
      "  step, loss =  103000: 0.03416\n",
      "  step, loss =  103500: 0.02743\n",
      "  step, loss =  104000: 0.02544\n",
      "  step, loss =  104500: 0.02922\n",
      "  step, loss =  105000: 0.06876\n",
      "  step, loss =  105500: 0.02953\n",
      "  step, loss =  106000: 0.02978\n",
      "  step, loss =  106500: 0.02812\n",
      "  step, loss =  107000: 0.02398\n",
      "  step, loss =  107500: 0.03131\n",
      "  step, loss =  108000: 0.02991\n",
      "  step, loss =  108500: 0.02519\n",
      "  step, loss =  109000: 0.02765\n",
      "  step, loss =  109500: 0.02602\n",
      "  step, loss =  110000: 0.03031\n",
      "  step, loss =  110500: 0.02371\n",
      "  step, loss =  111000: 0.02671\n",
      "  step, loss =  111500: 0.02915\n",
      "  step, loss =  112000: 0.02657\n",
      "  step, loss =  112500: 0.02598\n",
      "  step, loss =  113000: 0.02241\n",
      "  step, loss =  113500: 0.02762\n",
      "  step, loss =  114000: 0.02542\n",
      "  step, loss =  114500: 0.04958\n",
      "  step, loss =  115000: 0.03119\n",
      "  step, loss =  115500: 0.03259\n",
      "  step, loss =  116000: 0.02862\n",
      "  step, loss =  116500: 0.02736\n",
      "  step, loss =  117000: 0.02750\n",
      "  step, loss =  117500: 0.02534\n",
      "  step, loss =  118000: 0.02677\n",
      "  step, loss =  118500: 0.03664\n",
      "  step, loss =  119000: 0.02941\n",
      "  step, loss =  119500: 0.02370\n",
      "  step, loss =  120000: 0.02476\n",
      "  step, loss =  120500: 0.02341\n",
      "  step, loss =  121000: 0.02429\n",
      "  step, loss =  121500: 0.02784\n",
      "  step, loss =  122000: 0.03457\n",
      "  step, loss =  122500: 0.02936\n",
      "  step, loss =  123000: 0.02808\n",
      "  step, loss =  123500: 0.02574\n",
      "  step, loss =  124000: 0.02622\n",
      "  step, loss =  124500: 0.02491\n",
      "  step, loss =  125000: 0.02459\n",
      "  step, loss =  125500: 0.02369\n",
      "  step, loss =  126000: 0.03144\n",
      "  step, loss =  126500: 0.02874\n",
      "  step, loss =  127000: 0.03362\n",
      "  step, loss =  127500: 0.02928\n"
     ]
    },
    {
     "name": "stdout",
     "output_type": "stream",
     "text": [
      "  step, loss =  128000: 0.02743\n",
      "  step, loss =  128500: 0.02590\n",
      "  step, loss =  129000: 0.02603\n",
      "  step, loss =  129500: 0.02756\n",
      "  step, loss =  130000: 0.02310\n",
      "  step, loss =  130500: 0.02742\n",
      "  step, loss =  131000: 0.02559\n",
      "  step, loss =  131500: 0.02480\n",
      "  step, loss =  132000: 0.02564\n",
      "  step, loss =  132500: 0.03682\n",
      "  step, loss =  133000: 0.03179\n",
      "  step, loss =  133500: 0.03170\n",
      "  step, loss =  134000: 0.02862\n",
      "  step, loss =  134500: 0.02626\n",
      "  step, loss =  135000: 0.02610\n",
      "  step, loss =  135500: 0.02559\n",
      "  step, loss =  136000: 0.02584\n",
      "  step, loss =  136500: 0.02193\n",
      "  step, loss =  137000: 0.02593\n",
      "  step, loss =  137500: 0.02576\n",
      "  step, loss =  138000: 0.02455\n",
      "  step, loss =  138500: 0.02588\n",
      "  step, loss =  139000: 0.03654\n",
      "  step, loss =  139500: 0.02809\n",
      "  step, loss =  140000: 0.02485\n",
      "  step, loss =  140500: 0.03319\n",
      "  step, loss =  141000: 0.02951\n",
      "  step, loss =  141500: 0.02470\n",
      "  step, loss =  142000: 0.02737\n",
      "  step, loss =  142500: 0.02492\n",
      "  step, loss =  143000: 0.02532\n",
      "  step, loss =  143500: 0.02825\n",
      "  step, loss =  144000: 0.02539\n",
      "  step, loss =  144500: 0.02401\n",
      "  step, loss =  145000: 0.02835\n",
      "  step, loss =  145500: 0.02907\n",
      "  step, loss =  146000: 0.02398\n",
      "  step, loss =  146500: 0.02895\n",
      "  step, loss =  147000: 0.02529\n",
      "  step, loss =  147500: 0.02625\n",
      "  step, loss =  148000: 0.02586\n",
      "  step, loss =  148500: 0.02268\n",
      "  step, loss =  149000: 0.02235\n",
      "  step, loss =  149500: 0.02523\n",
      "  step, loss =  150000: 0.02388\n",
      "  step, loss =  150500: 0.02535\n",
      "  step, loss =  151000: 0.03011\n",
      "  step, loss =  151500: 0.02686\n",
      "  step, loss =  152000: 0.02848\n",
      "  step, loss =  152500: 0.02258\n",
      "  step, loss =  153000: 0.02317\n",
      "  step, loss =  153500: 0.02513\n",
      "  step, loss =  154000: 0.02125\n",
      "  step, loss =  154500: 0.02526\n",
      "  step, loss =  155000: 0.02690\n",
      "  step, loss =  155500: 0.02581\n",
      "  step, loss =  156000: 0.02528\n",
      "  step, loss =  156500: 0.03354\n",
      "  step, loss =  157000: 0.03034\n",
      "  step, loss =  157500: 0.02733\n",
      "  step, loss =  158000: 0.02698\n",
      "  step, loss =  158500: 0.02265\n",
      "  step, loss =  159000: 0.02399\n",
      "  step, loss =  159500: 0.02419\n",
      "  step, loss =  160000: 0.02671\n",
      "  step, loss =  160500: 0.02273\n",
      "  step, loss =  161000: 0.02302\n",
      "  step, loss =  161500: 0.05260\n",
      "  step, loss =  162000: 0.02766\n",
      "  step, loss =  162500: 0.02512\n",
      "  step, loss =  163000: 0.02494\n",
      "  step, loss =  163500: 0.02322\n",
      "  step, loss =  164000: 0.02522\n",
      "  step, loss =  164500: 0.02376\n",
      "  step, loss =  165000: 0.02605\n",
      "  step, loss =  165500: 0.02286\n",
      "  step, loss =  166000: 0.02663\n",
      "  step, loss =  166500: 0.03028\n",
      "  step, loss =  167000: 0.02892\n",
      "  step, loss =  167500: 0.02752\n",
      "  step, loss =  168000: 0.02951\n",
      "  step, loss =  168500: 0.02853\n",
      "  step, loss =  169000: 0.02480\n",
      "  step, loss =  169500: 0.02439\n",
      "  step, loss =  170000: 0.02250\n",
      "  step, loss =  170500: 0.02252\n",
      "  step, loss =  171000: 0.02189\n",
      "  step, loss =  171500: 0.02235\n",
      "  step, loss =  172000: 0.02295\n",
      "  step, loss =  172500: 0.03786\n",
      "  step, loss =  173000: 0.02644\n",
      "  step, loss =  173500: 0.02648\n",
      "  step, loss =  174000: 0.02051\n",
      "  step, loss =  174500: 0.02360\n",
      "  step, loss =  175000: 0.02359\n",
      "  step, loss =  175500: 0.02597\n",
      "  step, loss =  176000: 0.02102\n",
      "  step, loss =  176500: 0.02044\n",
      "  step, loss =  177000: 0.04040\n",
      "  step, loss =  177500: 0.02869\n",
      "  step, loss =  178000: 0.02077\n",
      "  step, loss =  178500: 0.02125\n",
      "  step, loss =  179000: 0.02333\n",
      "  step, loss =  179500: 0.02083\n",
      "  step, loss =  180000: 0.02141\n",
      "  step, loss =  180500: 0.02488\n",
      "  step, loss =  181000: 0.02690\n",
      "  step, loss =  181500: 0.02320\n",
      "  step, loss =  182000: 0.05355\n",
      "  step, loss =  182500: 0.02796\n",
      "  step, loss =  183000: 0.02457\n",
      "  step, loss =  183500: 0.02427\n",
      "  step, loss =  184000: 0.02234\n",
      "  step, loss =  184500: 0.02222\n",
      "  step, loss =  185000: 0.02062\n",
      "  step, loss =  185500: 0.02542\n",
      "  step, loss =  186000: 0.02468\n",
      "  step, loss =  186500: 0.02146\n",
      "  step, loss =  187000: 0.02264\n",
      "  step, loss =  187500: 0.02275\n",
      "  step, loss =  188000: 0.02943\n",
      "  step, loss =  188500: 0.02062\n",
      "  step, loss =  189000: 0.02235\n",
      "  step, loss =  189500: 0.02366\n",
      "  step, loss =  190000: 0.02339\n",
      "  step, loss =  190500: 0.02146\n",
      "  step, loss =  191000: 0.01862\n",
      "  step, loss =  191500: 0.02331\n",
      "  step, loss =  192000: 0.02211\n",
      "  step, loss =  192500: 0.02142\n",
      "  step, loss =  193000: 0.02179\n",
      "  step, loss =  193500: 0.04067\n",
      "  step, loss =  194000: 0.02520\n",
      "  step, loss =  194500: 0.02168\n",
      "  step, loss =  195000: 0.02319\n",
      "  step, loss =  195500: 0.02092\n",
      "  step, loss =  196000: 0.02222\n",
      "  step, loss =  196500: 0.02448\n",
      "  step, loss =  197000: 0.02280\n",
      "  step, loss =  197500: 0.01902\n",
      "  step, loss =  198000: 0.02070\n",
      "  step, loss =  198500: 0.02315\n",
      "  step, loss =  199000: 0.02198\n",
      "  step, loss =  199500: 0.02323\n",
      "loss (test) =  0.180073\n"
     ]
    }
   ],
   "source": [
    "\n",
    "print('Training...')\n",
    "for i in range(200000):\n",
    "    if j+bs >= len(input_test):\n",
    "        j=0\n",
    "    batch_xs = input_img[j:j+bs]\n",
    "    batch_ys = output_img[j:j+bs]\n",
    "    batch_sent = sent_inp[j:j+bs]\n",
    "    train_step.run({x: batch_xs, y: batch_ys, sentp: batch_sent}, session=sess)\n",
    "    if i % 500 == 0:\n",
    "        train_loss= dec_loss.eval({x: batch_xs, y: batch_ys, sentp: batch_sent}, session=sess)\n",
    "        print('  step, loss = %7d: %6.5f' % (i, train_loss))\n",
    "    j+=bs\n",
    "\n",
    "# generate decoded image with test data\n",
    "test_fd = {x: input_test[:bs], y: output_test[:bs], sentp: sent_test[:bs]}\n",
    "decoded_imgs = decoded.eval(test_fd, session=sess)\n",
    "print('loss (test) = ', dec_loss.eval(test_fd, session=sess))\n",
    "\n"
   ]
  },
  {
   "cell_type": "code",
   "execution_count": 27,
   "metadata": {},
   "outputs": [
    {
     "name": "stdout",
     "output_type": "stream",
     "text": [
      "0.154642507541\n"
     ]
    }
   ],
   "source": [
    "test_loss = 0.0\n",
    "nbatches = 0.0\n",
    "decoded_imgs = []\n",
    "\n",
    "j=0\n",
    "while j+bs < len(input_test):\n",
    "    test_fd = {x: input_test[j:j+bs], y: output_test[j:j+bs], sentp: sent_test[j:j+bs]}\n",
    "    decoded_imgs.append(decoded.eval(test_fd, session=sess))\n",
    "    test_loss += dec_loss.eval(test_fd, session=sess)\n",
    "    \n",
    "    nbatches+=1\n",
    "    j+=bs\n",
    "# generate decoded image with test data\n",
    "\n",
    "test_loss /= nbatches\n",
    "decoded_imgs = np.array(decoded_imgs)\n",
    "\n",
    "print (test_loss)"
   ]
  },
  {
   "cell_type": "code",
   "execution_count": 28,
   "metadata": {},
   "outputs": [],
   "source": [
    "decoded_imgs = decoded_imgs.reshape((-1,64, 64, 3))"
   ]
  },
  {
   "cell_type": "code",
   "execution_count": 29,
   "metadata": {
    "scrolled": true
   },
   "outputs": [
    {
     "data": {
      "image/png": "[encoded data removed]",
      "text/plain": [
       "<matplotlib.figure.Figure at 0x7fe140056ed0>"
      ]
     },
     "metadata": {},
     "output_type": "display_data"
    },
    {
     "data": {
      "image/png": "[encoded data removed]",
      "text/plain": [
       "<matplotlib.figure.Figure at 0x7fe1587a84d0>"
      ]
     },
     "metadata": {},
     "output_type": "display_data"
    },
    {
     "data": {
      "image/png": "[encoded data removed]",
      "text/plain": [
       "<matplotlib.figure.Figure at 0x7fe1400f0810>"
      ]
     },
     "metadata": {},
     "output_type": "display_data"
    },
    {
     "data": {
      "image/png": "[encoded data removed]",
      "text/plain": [
       "<matplotlib.figure.Figure at 0x7fe14121b0d0>"
      ]
     },
     "metadata": {},
     "output_type": "display_data"
    },
    {
     "data": {
      "image/png": "[encoded data removed]",
      "text/plain": [
       "<matplotlib.figure.Figure at 0x7fe140f3e210>"
      ]
     },
     "metadata": {},
     "output_type": "display_data"
    },
    {
     "data": {
      "image/png": "[encoded data removed]",
      "text/plain": [
       "<matplotlib.figure.Figure at 0x7fe141119f10>"
      ]
     },
     "metadata": {},
     "output_type": "display_data"
    },
    {
     "data": {
      "image/png": "[encoded data removed]",
      "text/plain": [
       "<matplotlib.figure.Figure at 0x7fe14022d150>"
      ]
     },
     "metadata": {},
     "output_type": "display_data"
    },
    {
     "data": {
      "image/png": "[encoded data removed]",
      "text/plain": [
       "<matplotlib.figure.Figure at 0x7fe1581f7390>"
      ]
     },
     "metadata": {},
     "output_type": "display_data"
    },
    {
     "data": {
      "image/png": "[encoded data removed]",
      "text/plain": [
       "<matplotlib.figure.Figure at 0x7fe140280610>"
      ]
     },
     "metadata": {},
     "output_type": "display_data"
    },
    {
     "data": {
      "image/png": "[encoded data removed]",
      "text/plain": [
       "<matplotlib.figure.Figure at 0x7fe1580e2a10>"
      ]
     },
     "metadata": {},
     "output_type": "display_data"
    },
    {
     "data": {
      "image/png": "[encoded data removed]",
      "text/plain": [
       "<matplotlib.figure.Figure at 0x7fe141399090>"
      ]
     },
     "metadata": {},
     "output_type": "display_data"
    },
    {
     "data": {
      "image/png": "[encoded data removed]",
      "text/plain": [
       "<matplotlib.figure.Figure at 0x7fe1401fb210>"
      ]
     },
     "metadata": {},
     "output_type": "display_data"
    },
    {
     "data": {
      "image/png": "[encoded data removed]",
      "text/plain": [
       "<matplotlib.figure.Figure at 0x7fe158146590>"
      ]
     },
     "metadata": {},
     "output_type": "display_data"
    },
    {
     "data": {
      "image/png": "[encoded data removed]",
      "text/plain": [
       "<matplotlib.figure.Figure at 0x7fe140037b10>"
      ]
     },
     "metadata": {},
     "output_type": "display_data"
    },
    {
     "data": {
      "image/png": "[encoded data removed]",
      "text/plain": [
       "<matplotlib.figure.Figure at 0x7fe1583a4390>"
      ]
     },
     "metadata": {},
     "output_type": "display_data"
    },
    {
     "data": {
      "image/png": "[encoded data removed]",
      "text/plain": [
       "<matplotlib.figure.Figure at 0x7fe1585c1710>"
      ]
     },
     "metadata": {},
     "output_type": "display_data"
    },
    {
     "data": {
      "image/png": "[encoded data removed]",
      "text/plain": [
       "<matplotlib.figure.Figure at 0x7fe140390490>"
      ]
     },
     "metadata": {},
     "output_type": "display_data"
    },
    {
     "data": {
      "image/png": "[encoded data removed]",
      "text/plain": [
       "<matplotlib.figure.Figure at 0x7fe15806a790>"
      ]
     },
     "metadata": {},
     "output_type": "display_data"
    },
    {
     "data": {
      "image/png": "[encoded data removed]",
      "text/plain": [
       "<matplotlib.figure.Figure at 0x7fe140523a50>"
      ]
     },
     "metadata": {},
     "output_type": "display_data"
    },
    {
     "data": {
      "image/png": "[encoded data removed]",
      "text/plain": [
       "<matplotlib.figure.Figure at 0x7fe140ddef10>"
      ]
     },
     "metadata": {},
     "output_type": "display_data"
    },
    {
     "data": {
      "image/png": "[encoded data removed]",
      "text/plain": [
       "<matplotlib.figure.Figure at 0x7fe140d74c90>"
      ]
     },
     "metadata": {},
     "output_type": "display_data"
    },
    {
     "data": {
      "image/png": "[encoded data removed]",
      "text/plain": [
       "<matplotlib.figure.Figure at 0x7fe1410579d0>"
      ]
     },
     "metadata": {},
     "output_type": "display_data"
    },
    {
     "data": {
      "image/png": "[encoded data removed]",
      "text/plain": [
       "<matplotlib.figure.Figure at 0x7fe140583fd0>"
      ]
     },
     "metadata": {},
     "output_type": "display_data"
    },
    {
     "data": {
      "image/png": "[encoded data removed]",
      "text/plain": [
       "<matplotlib.figure.Figure at 0x7fe15817c2d0>"
      ]
     },
     "metadata": {},
     "output_type": "display_data"
    },
    {
     "data": {
      "text/plain": [
       "<matplotlib.figure.Figure at 0x7fe1400561d0>"
      ]
     },
     "metadata": {},
     "output_type": "display_data"
    }
   ],
   "source": [
    "\n",
    "x_test = input_test\n",
    "y_test = output_test\n",
    "n = bs  # how many digits we will display\n",
    "# plt.figure(figsize=(20, 4))\n",
    "\n",
    "\n",
    "for i in range(n):\n",
    "#     ax = plt.subplot(2, n, i + 1)\n",
    "    plt.imshow(np.array(x_test[i]*255, dtype=np.uint8))\n",
    "    plt.show()\n",
    "    plt.imshow(np.array(y_test[i]*255, dtype=np.uint8))\n",
    "#     plt.gray()\n",
    "#     ax.get_xaxis().set_visible(False)\n",
    "#     ax.get_yaxis().set_visible(False)\n",
    "    plt.show()\n",
    "    # display reconstruction\n",
    "#     ax = plt.subplot(2, n, i + 1 + n)\n",
    "    plt.imshow(np.array(decoded_imgs[i]*255, dtype=np.uint8))\n",
    "#     plt.gray()\n",
    "#     ax.get_xaxis().set_visible(False)\n",
    "#     ax.get_yaxis().set_visible(False)\n",
    "    plt.show()\n",
    "\n",
    "    \n",
    "#plt.show()\n",
    "plt.savefig('mnist_ae2.png')\n"
   ]
  },
  {
   "cell_type": "code",
   "execution_count": null,
   "metadata": {},
   "outputs": [],
   "source": []
  },
  {
   "cell_type": "code",
   "execution_count": 24,
   "metadata": {},
   "outputs": [
    {
     "name": "stdout",
     "output_type": "stream",
     "text": [
      "155693\n"
     ]
    }
   ],
   "source": [
    "total_parameters = 0\n",
    "for variable in tf.trainable_variables():\n",
    "    # shape is an array of tf.Dimension\n",
    "    shape = variable.get_shape()\n",
    "#     print(shape)\n",
    "#     print(len(shape))\n",
    "    variable_parameters = 1\n",
    "    for dim in shape:\n",
    "#         print(dim)\n",
    "        variable_parameters *= dim.value\n",
    "#     print(variable_parameters)\n",
    "    total_parameters += variable_parameters\n",
    "print(total_parameters)"
   ]
  },
  {
   "cell_type": "code",
   "execution_count": null,
   "metadata": {},
   "outputs": [],
   "source": []
  },
  {
   "cell_type": "code",
   "execution_count": 30,
   "metadata": {},
   "outputs": [
    {
     "data": {
      "text/plain": [
       "'train808RemakeSentMoretrain4/train808RemakeSentMoretrain4.chkp'"
      ]
     },
     "execution_count": 30,
     "metadata": {},
     "output_type": "execute_result"
    }
   ],
   "source": [
    "saver = tf.train.Saver() \n",
    "saver.save(sess, 'train808RemakeSentMoretrain4/train808RemakeSentMoretrain4.chkp')\n",
    "\n",
    "# Then you'll be able to access the model:\n",
    "\n",
    "# sess = tf.Session()\n",
    "# saver = tf.train.Saver()\n",
    "# saver.restore(sess, 'filename.chkp')"
   ]
  },
  {
   "cell_type": "code",
   "execution_count": 14,
   "metadata": {},
   "outputs": [],
   "source": [
    "# sess.close()"
   ]
  },
  {
   "cell_type": "code",
   "execution_count": null,
   "metadata": {},
   "outputs": [],
   "source": []
  },
  {
   "cell_type": "code",
   "execution_count": null,
   "metadata": {},
   "outputs": [],
   "source": []
  }
 ],
 "metadata": {
  "kernelspec": {
   "display_name": "Python [default]",
   "language": "python",
   "name": "python2"
  },
  "language_info": {
   "codemirror_mode": {
    "name": "ipython",
    "version": 2
   },
   "file_extension": ".py",
   "mimetype": "text/x-python",
   "name": "python",
   "nbconvert_exporter": "python",
   "pygments_lexer": "ipython2",
   "version": "2.7.14"
  }
 },
 "nbformat": 4,
 "nbformat_minor": 2
}
