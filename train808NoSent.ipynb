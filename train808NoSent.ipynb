{
 "cells": [
  {
   "cell_type": "code",
   "execution_count": 1,
   "metadata": {
    "scrolled": true
   },
   "outputs": [],
   "source": [
    "#\n",
    "#   mnist_ae2.py   date. 7/4/2016\n",
    "#   \n",
    "#   Autoencoder tutorial code - trial of convolutional AE\n",
    "#\n",
    "from __future__ import absolute_import\n",
    "from __future__ import division\n",
    "from __future__ import print_function\n",
    "\n",
    "import numpy as np\n",
    "import matplotlib as mpl\n",
    "mpl.use('Agg')\n",
    "import matplotlib.pyplot as plt\n",
    "import tensorflow as tf\n",
    "\n",
    "from tensorflow.examples.tutorials.mnist import input_data\n",
    "from my_nn_lib import Convolution2D, MaxPooling2D\n",
    "from my_nn_lib import FullConnected, ReadOutLayer\n",
    "%matplotlib inline\n",
    "\n",
    "# Up-sampling 2-D Layer (deconvolutoinal Layer)\n",
    "class Conv2Dtranspose(object):\n",
    "    '''\n",
    "      constructor's args:\n",
    "          input      : input image (2D matrix)\n",
    "          output_siz : output image size\n",
    "          in_ch      : number of incoming image channel\n",
    "          out_ch     : number of outgoing image channel\n",
    "          patch_siz  : filter(patch) size\n",
    "    '''\n",
    "    def __init__(self, input, output_siz, in_ch, out_ch, patch_siz, activation='relu'):\n",
    "        self.input = input      \n",
    "        self.rows = output_siz[0]\n",
    "        self.cols = output_siz[1]\n",
    "        self.out_ch = out_ch\n",
    "        self.activation = activation\n",
    "        \n",
    "        wshape = [patch_siz[0], patch_siz[1], out_ch, in_ch]    # note the arguments order\n",
    "        \n",
    "        w_cvt = tf.Variable(tf.truncated_normal(wshape, stddev=0.1), \n",
    "                            trainable=True)\n",
    "        b_cvt = tf.Variable(tf.constant(0.1, shape=[out_ch]), \n",
    "                            trainable=True)\n",
    "        self.batsiz = tf.shape(input)[0]\n",
    "        self.w = w_cvt\n",
    "        self.b = b_cvt\n",
    "        self.params = [self.w, self.b]\n",
    "        \n",
    "    def output(self):\n",
    "        shape4D = [self.batsiz, self.rows, self.cols, self.out_ch]      \n",
    "        linout = tf.nn.conv2d_transpose(self.input, self.w, output_shape=shape4D,\n",
    "                            strides=[1, 2, 2, 1], padding='SAME') + self.b\n",
    "        if self.activation == 'relu':\n",
    "            self.output = tf.nn.relu(linout)\n",
    "        elif self.activation == 'sigmoid':\n",
    "            self.output = tf.sigmoid(linout)\n",
    "        else:\n",
    "            self.output = linout\n",
    "        \n",
    "        return self.output\n",
    "\n",
    "# Create the model\n",
    "def model(X, w_e, b_e, w_d, b_d):\n",
    "    encoded = tf.sigmoid(tf.matmul(X, w_e) + b_e)\n",
    "    decoded = tf.sigmoid(tf.matmul(encoded, w_d) + b_d)\n",
    "    \n",
    "    return encoded, decoded\n",
    "\n",
    "def mk_nn_model(x, sentp=None, y=None, bs=8):\n",
    "    # Encoding phase\n",
    "    x_image = x #tf.reshape(x, [-1, 64, 64, 1])\n",
    "    if y==None:\n",
    "        y=x\n",
    "        \n",
    "    conv00 = Convolution2D(x_image, (64, 64), 3, 4, \n",
    "                          (5, 5), activation='relu')\n",
    "    conv00_out = conv00.output()\n",
    "    \n",
    "    conv0 = Convolution2D(conv00_out, (64, 64), 4, 4, \n",
    "                          (3, 3), activation='relu')\n",
    "    conv0_out = conv0.output()\n",
    "    \n",
    "    pool0 = MaxPooling2D(conv0_out)\n",
    "    pool0_out = pool0.output()\n",
    "    \n",
    "    conv1 = Convolution2D(pool0_out, (32, 32), 4, 8, \n",
    "                          (3, 3), activation='relu')\n",
    "    conv1_out = conv1.output()\n",
    "    \n",
    "    pool1 = MaxPooling2D(conv1_out)\n",
    "    pool1_out = pool1.output()\n",
    "    \n",
    "    conv2 = Convolution2D(pool1_out, (16, 16), 8, 16, \n",
    "                          (3, 3), activation='relu')\n",
    "    conv2_out = conv2.output()\n",
    "    \n",
    "    pool2 = MaxPooling2D(conv2_out)\n",
    "    pool2_out = pool2.output()\n",
    "\n",
    "    conv3 = Convolution2D(pool2_out, (8, 8), 16, 16, (3, 3), activation='relu')\n",
    "    conv3_out = conv3.output()\n",
    "\n",
    "    pool3 = MaxPooling2D(conv3_out)\n",
    "    pool3_out = pool3.output()\n",
    "    # at this point the representation is (8, 4, 4) i.e. 128-dimensional\n",
    "    \n",
    "    \n",
    "    flatenned = tf.contrib.layers.flatten(pool3_out)\n",
    "    if sentp!=None:\n",
    "        flatenned = tf.concat([flatenned, sentp],1)\n",
    "    flatenned = tf.layers.dense(flatenned, 128*2, activation=tf.nn.relu)\n",
    "    flatenned = tf.layers.dense(flatenned, 128*2, activation=tf.nn.relu)\n",
    "    \n",
    "    net = tf.reshape(flatenned, [bs, 4, 4, 16])\n",
    "    \n",
    "    # Decoding phase\n",
    "    conv_t1 = Conv2Dtranspose(net, (8, 8), 16, 16,\n",
    "                         (3, 3), activation='relu')\n",
    "    conv_t1_out = conv_t1.output()\n",
    "\n",
    "    conv_t2 = Conv2Dtranspose(conv_t1_out, (16, 16), 16, 8,\n",
    "                         (3, 3), activation='relu')\n",
    "    conv_t2_out = conv_t2.output()\n",
    "\n",
    "    conv_t3 = Conv2Dtranspose(conv_t2_out, (32, 32), 8, 4, \n",
    "                         (3, 3), activation='relu')\n",
    "    conv_t3_out = conv_t3.output()\n",
    "\n",
    "    conv_t35 = Conv2Dtranspose(conv_t3_out, (64, 64), 4, 4, \n",
    "                         (3, 3), activation='relu')\n",
    "    conv_t35_out = conv_t35.output()\n",
    "\n",
    "    conv_last = Convolution2D(conv_t35_out, (64, 64), 4, 3, (5, 5),\n",
    "                         activation='sigmoid')\n",
    "    decoded = conv_last.output()\n",
    "\n",
    "#     decoded = tf.reshape(decoded, [-1, 64*64])\n",
    "    cross_entropy = -1. *y *tf.log(decoded + 1e-30) - (1. - y) *tf.log(1. - decoded + 1e-30)\n",
    "    loss = tf.reduce_mean(cross_entropy)\n",
    "       \n",
    "    return loss, decoded\n"
   ]
  },
  {
   "cell_type": "code",
   "execution_count": 2,
   "metadata": {
    "scrolled": true
   },
   "outputs": [],
   "source": [
    "bs=8\n",
    "hs=64\n",
    "\n",
    "x = tf.placeholder(tf.float32, [None, 64, 64, 3])\n",
    "y = tf.placeholder(tf.float32, [None, 64, 64, 3])\n",
    "# sentp = tf.placeholder(tf.float32, [None, 10])\n",
    "\n",
    "\n",
    "loss, decoded = mk_nn_model(x, y=y, sentp=None, bs=bs)\n",
    "train_step = tf.train.AdamOptimizer(0.0001).minimize(loss)\n"
   ]
  },
  {
   "cell_type": "code",
   "execution_count": 3,
   "metadata": {},
   "outputs": [],
   "source": [
    "# len(mnist.train.images)"
   ]
  },
  {
   "cell_type": "code",
   "execution_count": 4,
   "metadata": {},
   "outputs": [],
   "source": [
    "sentences = np.load('sentences_64.npy')\n",
    "original_imgs = np.load('original_imgs_64.npy')\n",
    "translated_imgs = np.load('translated_imgs_64.npy')\n",
    "\n",
    "sentences_float = np.array(sentences, dtype=np.float32)\n",
    "original_imgs_float = np.array(original_imgs, dtype=np.float32)\n",
    "translated_imgs_float = np.array(translated_imgs, dtype=np.float32)"
   ]
  },
  {
   "cell_type": "code",
   "execution_count": 5,
   "metadata": {},
   "outputs": [],
   "source": [
    "\n",
    "\n",
    "# onesar = np.ones((55000, hs, hs, 3))\n",
    "# onesar[:,hs//2:,hs//2:,0:2] = 0\n",
    "\n",
    "# onesar = onesar.reshape(55000, hs*hs)\n",
    "# onesar = mnist.train.images"
   ]
  },
  {
   "cell_type": "code",
   "execution_count": 6,
   "metadata": {},
   "outputs": [],
   "source": [
    "train_max = 95000\n",
    "\n",
    "input_img = original_imgs_float[:train_max] #np.array([original_imgs_float[0] for i in range(55000)])\n",
    "output_img = translated_imgs_float[:train_max]\n",
    "sent_inp = sentences_float[:train_max]\n",
    "\n",
    "input_test = original_imgs_float[train_max:]\n",
    "output_test = translated_imgs_float[train_max:]\n",
    "sent_test = sentences_float[train_max:]\n"
   ]
  },
  {
   "cell_type": "code",
   "execution_count": 7,
   "metadata": {},
   "outputs": [],
   "source": [
    "config = tf.ConfigProto()\n",
    "config.gpu_options.per_process_gpu_memory_fraction = 0.3\n",
    "\n",
    "sess =  tf.Session()\n",
    "sess.run(tf.global_variables_initializer())\n",
    "j=0"
   ]
  },
  {
   "cell_type": "code",
   "execution_count": 8,
   "metadata": {
    "scrolled": true
   },
   "outputs": [
    {
     "name": "stdout",
     "output_type": "stream",
     "text": [
      "Training...\n",
      "  step, loss =       0: 0.73513\n",
      "  step, loss =     500: 0.15601\n",
      "  step, loss =    1000: 0.15079\n",
      "  step, loss =    1500: 0.14642\n",
      "  step, loss =    2000: 0.16015\n",
      "  step, loss =    2500: 0.14843\n",
      "  step, loss =    3000: 0.12867\n",
      "  step, loss =    3500: 0.15190\n",
      "  step, loss =    4000: 0.15190\n",
      "  step, loss =    4500: 0.14859\n",
      "  step, loss =    5000: 0.13697\n",
      "  step, loss =    5500: 0.15714\n",
      "  step, loss =    6000: 0.12733\n",
      "  step, loss =    6500: 0.14297\n",
      "  step, loss =    7000: 0.13725\n",
      "  step, loss =    7500: 0.13438\n",
      "  step, loss =    8000: 0.13975\n",
      "  step, loss =    8500: 0.13695\n",
      "  step, loss =    9000: 0.12665\n",
      "  step, loss =    9500: 0.12206\n",
      "  step, loss =   10000: 0.13391\n",
      "  step, loss =   10500: 0.12153\n",
      "  step, loss =   11000: 0.12083\n",
      "  step, loss =   11500: 0.11663\n",
      "  step, loss =   12000: 0.11385\n",
      "  step, loss =   12500: 0.12237\n",
      "  step, loss =   13000: 0.10648\n",
      "  step, loss =   13500: 0.11686\n",
      "  step, loss =   14000: 0.11425\n",
      "  step, loss =   14500: 0.10520\n",
      "  step, loss =   15000: 0.10970\n",
      "  step, loss =   15500: 0.10724\n",
      "  step, loss =   16000: 0.10397\n",
      "  step, loss =   16500: 0.11950\n",
      "  step, loss =   17000: 0.12163\n",
      "  step, loss =   17500: 0.11519\n",
      "  step, loss =   18000: 0.10666\n",
      "  step, loss =   18500: 0.12137\n",
      "  step, loss =   19000: 0.12026\n",
      "  step, loss =   19500: 0.12424\n",
      "  step, loss =   20000: 0.10242\n",
      "  step, loss =   20500: 0.11358\n",
      "  step, loss =   21000: 0.11193\n",
      "  step, loss =   21500: 0.12319\n",
      "  step, loss =   22000: 0.10852\n",
      "  step, loss =   22500: 0.10064\n",
      "  step, loss =   23000: 0.10104\n",
      "  step, loss =   23500: 0.09877\n",
      "  step, loss =   24000: 0.11781\n",
      "  step, loss =   24500: 0.11525\n",
      "  step, loss =   25000: 0.12241\n",
      "  step, loss =   25500: 0.09983\n",
      "  step, loss =   26000: 0.11118\n",
      "  step, loss =   26500: 0.10141\n",
      "  step, loss =   27000: 0.10494\n",
      "  step, loss =   27500: 0.10004\n",
      "  step, loss =   28000: 0.09698\n",
      "  step, loss =   28500: 0.11137\n",
      "  step, loss =   29000: 0.09237\n",
      "  step, loss =   29500: 0.11844\n",
      "  step, loss =   30000: 0.09599\n",
      "  step, loss =   30500: 0.10713\n",
      "  step, loss =   31000: 0.09686\n",
      "  step, loss =   31500: 0.11672\n",
      "  step, loss =   32000: 0.10017\n",
      "  step, loss =   32500: 0.10092\n",
      "  step, loss =   33000: 0.10144\n",
      "  step, loss =   33500: 0.11037\n",
      "  step, loss =   34000: 0.10128\n",
      "  step, loss =   34500: 0.09562\n",
      "  step, loss =   35000: 0.09627\n",
      "  step, loss =   35500: 0.10639\n",
      "  step, loss =   36000: 0.10819\n",
      "  step, loss =   36500: 0.10410\n",
      "  step, loss =   37000: 0.10851\n",
      "  step, loss =   37500: 0.10801\n",
      "  step, loss =   38000: 0.10867\n",
      "  step, loss =   38500: 0.09955\n",
      "  step, loss =   39000: 0.09453\n",
      "  step, loss =   39500: 0.10019\n",
      "  step, loss =   40000: 0.10596\n",
      "  step, loss =   40500: 0.10632\n",
      "  step, loss =   41000: 0.10606\n",
      "  step, loss =   41500: 0.09999\n",
      "  step, loss =   42000: 0.09374\n",
      "  step, loss =   42500: 0.11043\n",
      "  step, loss =   43000: 0.10509\n",
      "  step, loss =   43500: 0.10092\n",
      "  step, loss =   44000: 0.10658\n",
      "  step, loss =   44500: 0.09237\n",
      "  step, loss =   45000: 0.10305\n",
      "  step, loss =   45500: 0.09138\n",
      "  step, loss =   46000: 0.10000\n",
      "  step, loss =   46500: 0.09361\n",
      "  step, loss =   47000: 0.11180\n",
      "  step, loss =   47500: 0.10354\n",
      "  step, loss =   48000: 0.10483\n",
      "  step, loss =   48500: 0.10705\n",
      "  step, loss =   49000: 0.11055\n",
      "  step, loss =   49500: 0.10856\n",
      "  step, loss =   50000: 0.10345\n",
      "  step, loss =   50500: 0.11098\n",
      "  step, loss =   51000: 0.09589\n",
      "  step, loss =   51500: 0.10521\n",
      "  step, loss =   52000: 0.10037\n",
      "  step, loss =   52500: 0.09932\n",
      "  step, loss =   53000: 0.09847\n",
      "  step, loss =   53500: 0.09191\n",
      "  step, loss =   54000: 0.09167\n",
      "  step, loss =   54500: 0.09346\n",
      "  step, loss =   55000: 0.11185\n",
      "  step, loss =   55500: 0.10166\n",
      "  step, loss =   56000: 0.09749\n",
      "  step, loss =   56500: 0.10093\n",
      "  step, loss =   57000: 0.09646\n",
      "  step, loss =   57500: 0.10028\n",
      "  step, loss =   58000: 0.09467\n",
      "  step, loss =   58500: 0.09741\n",
      "  step, loss =   59000: 0.10332\n",
      "  step, loss =   59500: 0.10653\n",
      "  step, loss =   60000: 0.10120\n",
      "  step, loss =   60500: 0.10004\n",
      "  step, loss =   61000: 0.10173\n",
      "  step, loss =   61500: 0.10605\n",
      "  step, loss =   62000: 0.08688\n",
      "  step, loss =   62500: 0.09307\n",
      "  step, loss =   63000: 0.10275\n",
      "  step, loss =   63500: 0.09352\n",
      "  step, loss =   64000: 0.09337\n",
      "  step, loss =   64500: 0.10152\n",
      "  step, loss =   65000: 0.09835\n",
      "  step, loss =   65500: 0.10764\n",
      "  step, loss =   66000: 0.10452\n",
      "  step, loss =   66500: 0.09795\n",
      "  step, loss =   67000: 0.10138\n",
      "  step, loss =   67500: 0.09099\n",
      "  step, loss =   68000: 0.10109\n",
      "  step, loss =   68500: 0.09625\n",
      "  step, loss =   69000: 0.10021\n",
      "  step, loss =   69500: 0.09923\n",
      "  step, loss =   70000: 0.10320\n",
      "  step, loss =   70500: 0.08727\n",
      "  step, loss =   71000: 0.08861\n",
      "  step, loss =   71500: 0.09829\n",
      "  step, loss =   72000: 0.09513\n",
      "  step, loss =   72500: 0.09137\n",
      "  step, loss =   73000: 0.09306\n",
      "  step, loss =   73500: 0.09856\n",
      "  step, loss =   74000: 0.09275\n",
      "  step, loss =   74500: 0.09349\n",
      "  step, loss =   75000: 0.08816\n",
      "  step, loss =   75500: 0.09201\n",
      "  step, loss =   76000: 0.08821\n",
      "  step, loss =   76500: 0.08876\n",
      "  step, loss =   77000: 0.09207\n",
      "  step, loss =   77500: 0.09666\n",
      "  step, loss =   78000: 0.10334\n",
      "  step, loss =   78500: 0.09161\n",
      "  step, loss =   79000: 0.10012\n",
      "  step, loss =   79500: 0.10016\n",
      "  step, loss =   80000: 0.09985\n",
      "  step, loss =   80500: 0.09854\n",
      "  step, loss =   81000: 0.08270\n",
      "  step, loss =   81500: 0.09960\n",
      "  step, loss =   82000: 0.09966\n",
      "  step, loss =   82500: 0.09516\n",
      "  step, loss =   83000: 0.09058\n",
      "  step, loss =   83500: 0.10024\n",
      "  step, loss =   84000: 0.07957\n",
      "  step, loss =   84500: 0.09376\n",
      "  step, loss =   85000: 0.09341\n",
      "  step, loss =   85500: 0.09245\n",
      "  step, loss =   86000: 0.10228\n",
      "  step, loss =   86500: 0.09724\n",
      "  step, loss =   87000: 0.09088\n",
      "  step, loss =   87500: 0.08681\n",
      "  step, loss =   88000: 0.09572\n",
      "  step, loss =   88500: 0.09286\n",
      "  step, loss =   89000: 0.09552\n",
      "  step, loss =   89500: 0.08724\n",
      "  step, loss =   90000: 0.08873\n",
      "  step, loss =   90500: 0.09020\n",
      "  step, loss =   91000: 0.08171\n",
      "  step, loss =   91500: 0.09200\n",
      "  step, loss =   92000: 0.08917\n",
      "  step, loss =   92500: 0.07847\n",
      "  step, loss =   93000: 0.08553\n",
      "  step, loss =   93500: 0.08631\n",
      "  step, loss =   94000: 0.08046\n",
      "  step, loss =   94500: 0.09683\n",
      "  step, loss =   95000: 0.09381\n",
      "  step, loss =   95500: 0.08941\n",
      "  step, loss =   96000: 0.08721\n",
      "  step, loss =   96500: 0.09644\n",
      "  step, loss =   97000: 0.09118\n",
      "  step, loss =   97500: 0.10345\n",
      "  step, loss =   98000: 0.08588\n",
      "  step, loss =   98500: 0.09060\n",
      "  step, loss =   99000: 0.08752\n",
      "  step, loss =   99500: 0.09903\n",
      "  step, loss =  100000: 0.08420\n",
      "  step, loss =  100500: 0.08412\n",
      "  step, loss =  101000: 0.08849\n",
      "  step, loss =  101500: 0.07653\n",
      "  step, loss =  102000: 0.09175\n",
      "  step, loss =  102500: 0.08750\n",
      "  step, loss =  103000: 0.10242\n",
      "  step, loss =  103500: 0.08095\n",
      "  step, loss =  104000: 0.09477\n",
      "  step, loss =  104500: 0.07735\n",
      "  step, loss =  105000: 0.08363\n",
      "  step, loss =  105500: 0.07936\n",
      "  step, loss =  106000: 0.07677\n",
      "  step, loss =  106500: 0.08692\n",
      "  step, loss =  107000: 0.07927\n",
      "  step, loss =  107500: 0.09103\n",
      "  step, loss =  108000: 0.07763\n",
      "  step, loss =  108500: 0.08230\n",
      "  step, loss =  109000: 0.07528\n",
      "  step, loss =  109500: 0.08902\n",
      "  step, loss =  110000: 0.08283\n",
      "  step, loss =  110500: 0.08228\n",
      "  step, loss =  111000: 0.07510\n",
      "  step, loss =  111500: 0.08276\n",
      "  step, loss =  112000: 0.07741\n",
      "  step, loss =  112500: 0.07951\n",
      "  step, loss =  113000: 0.06582\n",
      "  step, loss =  113500: 0.07677\n",
      "  step, loss =  114000: 0.07394\n",
      "  step, loss =  114500: 0.07745\n",
      "  step, loss =  115000: 0.07844\n",
      "  step, loss =  115500: 0.08040\n",
      "  step, loss =  116000: 0.08873\n",
      "  step, loss =  116500: 0.07424\n",
      "  step, loss =  117000: 0.07255\n",
      "  step, loss =  117500: 0.07574\n",
      "  step, loss =  118000: 0.08466\n",
      "  step, loss =  118500: 0.08606\n",
      "  step, loss =  119000: 0.08192\n",
      "  step, loss =  119500: 0.07657\n",
      "  step, loss =  120000: 0.06805\n",
      "  step, loss =  120500: 0.07251\n",
      "  step, loss =  121000: 0.07908\n",
      "  step, loss =  121500: 0.07027\n",
      "  step, loss =  122000: 0.08647\n",
      "  step, loss =  122500: 0.06881\n",
      "  step, loss =  123000: 0.07930\n",
      "  step, loss =  123500: 0.07730\n",
      "  step, loss =  124000: 0.07385\n",
      "  step, loss =  124500: 0.06763\n",
      "  step, loss =  125000: 0.07984\n",
      "  step, loss =  125500: 0.07615\n",
      "  step, loss =  126000: 0.07130\n",
      "  step, loss =  126500: 0.07823\n",
      "  step, loss =  127000: 0.08226\n",
      "  step, loss =  127500: 0.08190\n"
     ]
    },
    {
     "name": "stdout",
     "output_type": "stream",
     "text": [
      "  step, loss =  128000: 0.06845\n",
      "  step, loss =  128500: 0.08128\n",
      "  step, loss =  129000: 0.06293\n",
      "  step, loss =  129500: 0.08267\n",
      "  step, loss =  130000: 0.06943\n",
      "  step, loss =  130500: 0.07673\n",
      "  step, loss =  131000: 0.07597\n",
      "  step, loss =  131500: 0.06632\n",
      "  step, loss =  132000: 0.06986\n",
      "  step, loss =  132500: 0.06980\n",
      "  step, loss =  133000: 0.08875\n",
      "  step, loss =  133500: 0.07468\n",
      "  step, loss =  134000: 0.06346\n",
      "  step, loss =  134500: 0.07371\n",
      "  step, loss =  135000: 0.06667\n",
      "  step, loss =  135500: 0.07619\n",
      "  step, loss =  136000: 0.06604\n",
      "  step, loss =  136500: 0.06903\n",
      "  step, loss =  137000: 0.07680\n",
      "  step, loss =  137500: 0.07821\n",
      "  step, loss =  138000: 0.06837\n",
      "  step, loss =  138500: 0.07358\n",
      "  step, loss =  139000: 0.06971\n",
      "  step, loss =  139500: 0.06548\n",
      "  step, loss =  140000: 0.06887\n",
      "  step, loss =  140500: 0.06984\n",
      "  step, loss =  141000: 0.07141\n",
      "  step, loss =  141500: 0.06285\n",
      "  step, loss =  142000: 0.06148\n",
      "  step, loss =  142500: 0.07842\n",
      "  step, loss =  143000: 0.06942\n",
      "  step, loss =  143500: 0.07194\n",
      "  step, loss =  144000: 0.07489\n",
      "  step, loss =  144500: 0.06499\n",
      "  step, loss =  145000: 0.06394\n",
      "  step, loss =  145500: 0.06598\n",
      "  step, loss =  146000: 0.07485\n",
      "  step, loss =  146500: 0.06459\n",
      "  step, loss =  147000: 0.06932\n",
      "  step, loss =  147500: 0.07161\n",
      "  step, loss =  148000: 0.06947\n",
      "  step, loss =  148500: 0.07196\n",
      "  step, loss =  149000: 0.06697\n",
      "  step, loss =  149500: 0.07244\n",
      "  step, loss =  150000: 0.06408\n",
      "  step, loss =  150500: 0.06545\n",
      "  step, loss =  151000: 0.06227\n",
      "  step, loss =  151500: 0.06709\n",
      "  step, loss =  152000: 0.07446\n",
      "  step, loss =  152500: 0.06066\n",
      "  step, loss =  153000: 0.05893\n",
      "  step, loss =  153500: 0.06661\n",
      "  step, loss =  154000: 0.06925\n",
      "  step, loss =  154500: 0.07148\n",
      "  step, loss =  155000: 0.06136\n",
      "  step, loss =  155500: 0.06848\n",
      "  step, loss =  156000: 0.08008\n",
      "  step, loss =  156500: 0.06893\n",
      "  step, loss =  157000: 0.06814\n",
      "  step, loss =  157500: 0.07094\n",
      "  step, loss =  158000: 0.06961\n",
      "  step, loss =  158500: 0.06203\n",
      "  step, loss =  159000: 0.05608\n",
      "  step, loss =  159500: 0.06630\n",
      "  step, loss =  160000: 0.06724\n",
      "  step, loss =  160500: 0.06208\n",
      "  step, loss =  161000: 0.07281\n",
      "  step, loss =  161500: 0.07491\n",
      "  step, loss =  162000: 0.05799\n",
      "  step, loss =  162500: 0.06862\n",
      "  step, loss =  163000: 0.06146\n",
      "  step, loss =  163500: 0.05812\n",
      "  step, loss =  164000: 0.06637\n",
      "  step, loss =  164500: 0.06374\n",
      "  step, loss =  165000: 0.06493\n",
      "  step, loss =  165500: 0.06087\n",
      "  step, loss =  166000: 0.06471\n",
      "  step, loss =  166500: 0.06419\n",
      "  step, loss =  167000: 0.06042\n",
      "  step, loss =  167500: 0.05478\n",
      "  step, loss =  168000: 0.05810\n",
      "  step, loss =  168500: 0.06176\n",
      "  step, loss =  169000: 0.06517\n",
      "  step, loss =  169500: 0.06710\n",
      "  step, loss =  170000: 0.06706\n",
      "  step, loss =  170500: 0.05457\n",
      "  step, loss =  171000: 0.05690\n",
      "  step, loss =  171500: 0.06005\n",
      "  step, loss =  172000: 0.05504\n",
      "  step, loss =  172500: 0.06557\n",
      "  step, loss =  173000: 0.05742\n",
      "  step, loss =  173500: 0.05530\n",
      "  step, loss =  174000: 0.06239\n",
      "  step, loss =  174500: 0.06104\n",
      "  step, loss =  175000: 0.05756\n",
      "  step, loss =  175500: 0.06949\n",
      "  step, loss =  176000: 0.05655\n",
      "  step, loss =  176500: 0.06181\n",
      "  step, loss =  177000: 0.05390\n",
      "  step, loss =  177500: 0.06262\n",
      "  step, loss =  178000: 0.05854\n",
      "  step, loss =  178500: 0.05280\n",
      "  step, loss =  179000: 0.07087\n",
      "  step, loss =  179500: 0.05466\n",
      "  step, loss =  180000: 0.05668\n",
      "  step, loss =  180500: 0.05173\n",
      "  step, loss =  181000: 0.06114\n",
      "  step, loss =  181500: 0.04756\n",
      "  step, loss =  182000: 0.06063\n",
      "  step, loss =  182500: 0.04876\n",
      "  step, loss =  183000: 0.05496\n",
      "  step, loss =  183500: 0.05478\n",
      "  step, loss =  184000: 0.05361\n",
      "  step, loss =  184500: 0.05627\n",
      "  step, loss =  185000: 0.05245\n",
      "  step, loss =  185500: 0.05562\n",
      "  step, loss =  186000: 0.05908\n",
      "  step, loss =  186500: 0.04691\n",
      "  step, loss =  187000: 0.05157\n",
      "  step, loss =  187500: 0.05570\n",
      "  step, loss =  188000: 0.05850\n",
      "  step, loss =  188500: 0.05574\n",
      "  step, loss =  189000: 0.04833\n",
      "  step, loss =  189500: 0.05776\n",
      "  step, loss =  190000: 0.04585\n",
      "  step, loss =  190500: 0.05069\n",
      "  step, loss =  191000: 0.04829\n",
      "  step, loss =  191500: 0.05433\n",
      "  step, loss =  192000: 0.04931\n",
      "  step, loss =  192500: 0.04870\n",
      "  step, loss =  193000: 0.05224\n",
      "  step, loss =  193500: 0.05673\n",
      "  step, loss =  194000: 0.05757\n",
      "  step, loss =  194500: 0.05084\n",
      "  step, loss =  195000: 0.05130\n",
      "  step, loss =  195500: 0.05224\n",
      "  step, loss =  196000: 0.04985\n",
      "  step, loss =  196500: 0.06496\n",
      "  step, loss =  197000: 0.05607\n",
      "  step, loss =  197500: 0.04864\n",
      "  step, loss =  198000: 0.05046\n",
      "  step, loss =  198500: 0.04375\n",
      "  step, loss =  199000: 0.05361\n",
      "  step, loss =  199500: 0.04685\n",
      "  step, loss =  200000: 0.06597\n",
      "  step, loss =  200500: 0.04940\n",
      "  step, loss =  201000: 0.05523\n",
      "  step, loss =  201500: 0.04758\n",
      "  step, loss =  202000: 0.04581\n",
      "  step, loss =  202500: 0.04827\n",
      "  step, loss =  203000: 0.05877\n",
      "  step, loss =  203500: 0.05028\n",
      "  step, loss =  204000: 0.04916\n",
      "  step, loss =  204500: 0.05224\n",
      "  step, loss =  205000: 0.05802\n",
      "  step, loss =  205500: 0.05507\n",
      "  step, loss =  206000: 0.04912\n",
      "  step, loss =  206500: 0.05904\n",
      "  step, loss =  207000: 0.04245\n",
      "  step, loss =  207500: 0.05055\n",
      "  step, loss =  208000: 0.04669\n",
      "  step, loss =  208500: 0.05224\n",
      "  step, loss =  209000: 0.05060\n",
      "  step, loss =  209500: 0.04621\n",
      "  step, loss =  210000: 0.05160\n",
      "  step, loss =  210500: 0.05141\n",
      "  step, loss =  211000: 0.05804\n",
      "  step, loss =  211500: 0.05460\n",
      "  step, loss =  212000: 0.04761\n",
      "  step, loss =  212500: 0.05138\n",
      "  step, loss =  213000: 0.04540\n",
      "  step, loss =  213500: 0.05116\n",
      "  step, loss =  214000: 0.04763\n",
      "  step, loss =  214500: 0.04711\n",
      "  step, loss =  215000: 0.05328\n",
      "  step, loss =  215500: 0.05290\n",
      "  step, loss =  216000: 0.04302\n",
      "  step, loss =  216500: 0.05081\n",
      "  step, loss =  217000: 0.05696\n",
      "  step, loss =  217500: 0.04801\n",
      "  step, loss =  218000: 0.04788\n",
      "  step, loss =  218500: 0.04824\n",
      "  step, loss =  219000: 0.05388\n",
      "  step, loss =  219500: 0.04746\n",
      "  step, loss =  220000: 0.04516\n",
      "  step, loss =  220500: 0.05132\n",
      "  step, loss =  221000: 0.05413\n",
      "  step, loss =  221500: 0.04652\n",
      "  step, loss =  222000: 0.06145\n",
      "  step, loss =  222500: 0.04542\n",
      "  step, loss =  223000: 0.04617\n",
      "  step, loss =  223500: 0.04772\n",
      "  step, loss =  224000: 0.05263\n",
      "  step, loss =  224500: 0.03936\n",
      "  step, loss =  225000: 0.04284\n",
      "  step, loss =  225500: 0.04530\n",
      "  step, loss =  226000: 0.04389\n",
      "  step, loss =  226500: 0.04758\n",
      "  step, loss =  227000: 0.04594\n",
      "  step, loss =  227500: 0.05196\n",
      "  step, loss =  228000: 0.05044\n",
      "  step, loss =  228500: 0.05176\n",
      "  step, loss =  229000: 0.04273\n",
      "  step, loss =  229500: 0.05106\n",
      "  step, loss =  230000: 0.05023\n",
      "  step, loss =  230500: 0.04367\n",
      "  step, loss =  231000: 0.04025\n",
      "  step, loss =  231500: 0.04919\n",
      "  step, loss =  232000: 0.04835\n",
      "  step, loss =  232500: 0.05516\n",
      "  step, loss =  233000: 0.04283\n",
      "  step, loss =  233500: 0.04674\n",
      "  step, loss =  234000: 0.05326\n",
      "  step, loss =  234500: 0.04684\n",
      "  step, loss =  235000: 0.04864\n",
      "  step, loss =  235500: 0.04849\n",
      "  step, loss =  236000: 0.05117\n",
      "  step, loss =  236500: 0.03828\n",
      "  step, loss =  237000: 0.04048\n",
      "  step, loss =  237500: 0.04778\n",
      "  step, loss =  238000: 0.04853\n",
      "  step, loss =  238500: 0.04428\n",
      "  step, loss =  239000: 0.04409\n",
      "  step, loss =  239500: 0.04921\n",
      "  step, loss =  240000: 0.03980\n",
      "  step, loss =  240500: 0.04696\n",
      "  step, loss =  241000: 0.04092\n",
      "  step, loss =  241500: 0.04134\n",
      "  step, loss =  242000: 0.04361\n",
      "  step, loss =  242500: 0.05548\n",
      "  step, loss =  243000: 0.05055\n",
      "  step, loss =  243500: 0.04950\n",
      "  step, loss =  244000: 0.04258\n",
      "  step, loss =  244500: 0.04643\n",
      "  step, loss =  245000: 0.04134\n",
      "  step, loss =  245500: 0.04159\n",
      "  step, loss =  246000: 0.04208\n",
      "  step, loss =  246500: 0.04716\n",
      "  step, loss =  247000: 0.04292\n",
      "  step, loss =  247500: 0.05288\n",
      "  step, loss =  248000: 0.05070\n",
      "  step, loss =  248500: 0.03872\n",
      "  step, loss =  249000: 0.04606\n",
      "  step, loss =  249500: 0.04835\n",
      "  step, loss =  250000: 0.04156\n",
      "  step, loss =  250500: 0.04762\n",
      "  step, loss =  251000: 0.04041\n",
      "  step, loss =  251500: 0.04276\n",
      "  step, loss =  252000: 0.04752\n",
      "  step, loss =  252500: 0.04495\n",
      "  step, loss =  253000: 0.04062\n",
      "  step, loss =  253500: 0.04966\n",
      "  step, loss =  254000: 0.04613\n",
      "  step, loss =  254500: 0.04595\n",
      "  step, loss =  255000: 0.04388\n",
      "  step, loss =  255500: 0.04862\n",
      "  step, loss =  256000: 0.04031\n"
     ]
    },
    {
     "name": "stdout",
     "output_type": "stream",
     "text": [
      "  step, loss =  256500: 0.03710\n",
      "  step, loss =  257000: 0.05462\n",
      "  step, loss =  257500: 0.03769\n",
      "  step, loss =  258000: 0.04735\n",
      "  step, loss =  258500: 0.04102\n",
      "  step, loss =  259000: 0.04381\n",
      "  step, loss =  259500: 0.03451\n",
      "  step, loss =  260000: 0.04544\n",
      "  step, loss =  260500: 0.03893\n",
      "  step, loss =  261000: 0.03799\n",
      "  step, loss =  261500: 0.03969\n",
      "  step, loss =  262000: 0.04155\n",
      "  step, loss =  262500: 0.04406\n",
      "  step, loss =  263000: 0.04326\n",
      "  step, loss =  263500: 0.04065\n",
      "  step, loss =  264000: 0.04411\n",
      "  step, loss =  264500: 0.03628\n",
      "  step, loss =  265000: 0.04337\n",
      "  step, loss =  265500: 0.04195\n",
      "  step, loss =  266000: 0.03767\n",
      "  step, loss =  266500: 0.04141\n",
      "  step, loss =  267000: 0.03930\n",
      "  step, loss =  267500: 0.04360\n",
      "  step, loss =  268000: 0.03788\n",
      "  step, loss =  268500: 0.04054\n",
      "  step, loss =  269000: 0.03279\n",
      "  step, loss =  269500: 0.04266\n",
      "  step, loss =  270000: 0.03852\n",
      "  step, loss =  270500: 0.03978\n",
      "  step, loss =  271000: 0.04408\n",
      "  step, loss =  271500: 0.04409\n",
      "  step, loss =  272000: 0.05068\n",
      "  step, loss =  272500: 0.04202\n",
      "  step, loss =  273000: 0.03727\n",
      "  step, loss =  273500: 0.04213\n",
      "  step, loss =  274000: 0.04211\n",
      "  step, loss =  274500: 0.05560\n",
      "  step, loss =  275000: 0.04317\n",
      "  step, loss =  275500: 0.04241\n",
      "  step, loss =  276000: 0.04083\n",
      "  step, loss =  276500: 0.03652\n",
      "  step, loss =  277000: 0.04434\n",
      "  step, loss =  277500: 0.03702\n",
      "  step, loss =  278000: 0.04668\n",
      "  step, loss =  278500: 0.03584\n",
      "  step, loss =  279000: 0.04500\n",
      "  step, loss =  279500: 0.04102\n",
      "  step, loss =  280000: 0.03540\n",
      "  step, loss =  280500: 0.03892\n",
      "  step, loss =  281000: 0.04733\n",
      "  step, loss =  281500: 0.04032\n",
      "  step, loss =  282000: 0.03707\n",
      "  step, loss =  282500: 0.03928\n",
      "  step, loss =  283000: 0.04823\n",
      "  step, loss =  283500: 0.04486\n",
      "  step, loss =  284000: 0.03759\n",
      "  step, loss =  284500: 0.04821\n",
      "  step, loss =  285000: 0.03170\n",
      "  step, loss =  285500: 0.04652\n",
      "  step, loss =  286000: 0.03716\n",
      "  step, loss =  286500: 0.04618\n",
      "  step, loss =  287000: 0.04212\n",
      "  step, loss =  287500: 0.05156\n",
      "  step, loss =  288000: 0.03948\n",
      "  step, loss =  288500: 0.04079\n",
      "  step, loss =  289000: 0.04566\n",
      "  step, loss =  289500: 0.05175\n",
      "  step, loss =  290000: 0.04008\n",
      "  step, loss =  290500: 0.03874\n",
      "  step, loss =  291000: 0.03870\n",
      "  step, loss =  291500: 0.04135\n",
      "  step, loss =  292000: 0.03747\n",
      "  step, loss =  292500: 0.03873\n",
      "  step, loss =  293000: 0.04201\n",
      "  step, loss =  293500: 0.04652\n",
      "  step, loss =  294000: 0.03753\n",
      "  step, loss =  294500: 0.03971\n",
      "  step, loss =  295000: 0.04859\n",
      "  step, loss =  295500: 0.03839\n",
      "  step, loss =  296000: 0.04074\n",
      "  step, loss =  296500: 0.03929\n",
      "  step, loss =  297000: 0.04260\n",
      "  step, loss =  297500: 0.03522\n",
      "  step, loss =  298000: 0.04077\n",
      "  step, loss =  298500: 0.04472\n",
      "  step, loss =  299000: 0.04676\n",
      "  step, loss =  299500: 0.04131\n"
     ]
    },
    {
     "ename": "InvalidArgumentError",
     "evalue": "Input to reshape is a tensor with 1280000 values, but the requested shape has 2048\n\t [[Node: Reshape_5 = Reshape[T=DT_FLOAT, Tshape=DT_INT32, _device=\"/job:localhost/replica:0/task:0/device:GPU:0\"](dense_2/Relu, Reshape_5/shape)]]\n\t [[Node: Sigmoid/_19 = _Recv[client_terminated=false, recv_device=\"/job:localhost/replica:0/task:0/device:CPU:0\", send_device=\"/job:localhost/replica:0/task:0/device:GPU:0\", send_device_incarnation=1, tensor_name=\"edge_185_Sigmoid\", tensor_type=DT_FLOAT, _device=\"/job:localhost/replica:0/task:0/device:CPU:0\"]()]]\n\nCaused by op u'Reshape_5', defined at:\n  File \"/home/ubuntu/anaconda3/envs/tensorflow_p27/lib/python2.7/runpy.py\", line 174, in _run_module_as_main\n    \"__main__\", fname, loader, pkg_name)\n  File \"/home/ubuntu/anaconda3/envs/tensorflow_p27/lib/python2.7/runpy.py\", line 72, in _run_code\n    exec code in run_globals\n  File \"/home/ubuntu/anaconda3/envs/tensorflow_p27/lib/python2.7/site-packages/ipykernel/__main__.py\", line 3, in <module>\n    app.launch_new_instance()\n  File \"/home/ubuntu/anaconda3/envs/tensorflow_p27/lib/python2.7/site-packages/traitlets/config/application.py\", line 658, in launch_instance\n    app.start()\n  File \"/home/ubuntu/anaconda3/envs/tensorflow_p27/lib/python2.7/site-packages/ipykernel/kernelapp.py\", line 478, in start\n    self.io_loop.start()\n  File \"/home/ubuntu/anaconda3/envs/tensorflow_p27/lib/python2.7/site-packages/zmq/eventloop/ioloop.py\", line 177, in start\n    super(ZMQIOLoop, self).start()\n  File \"/home/ubuntu/anaconda3/envs/tensorflow_p27/lib/python2.7/site-packages/tornado/ioloop.py\", line 888, in start\n    handler_func(fd_obj, events)\n  File \"/home/ubuntu/anaconda3/envs/tensorflow_p27/lib/python2.7/site-packages/tornado/stack_context.py\", line 277, in null_wrapper\n    return fn(*args, **kwargs)\n  File \"/home/ubuntu/anaconda3/envs/tensorflow_p27/lib/python2.7/site-packages/zmq/eventloop/zmqstream.py\", line 440, in _handle_events\n    self._handle_recv()\n  File \"/home/ubuntu/anaconda3/envs/tensorflow_p27/lib/python2.7/site-packages/zmq/eventloop/zmqstream.py\", line 472, in _handle_recv\n    self._run_callback(callback, msg)\n  File \"/home/ubuntu/anaconda3/envs/tensorflow_p27/lib/python2.7/site-packages/zmq/eventloop/zmqstream.py\", line 414, in _run_callback\n    callback(*args, **kwargs)\n  File \"/home/ubuntu/anaconda3/envs/tensorflow_p27/lib/python2.7/site-packages/tornado/stack_context.py\", line 277, in null_wrapper\n    return fn(*args, **kwargs)\n  File \"/home/ubuntu/anaconda3/envs/tensorflow_p27/lib/python2.7/site-packages/ipykernel/kernelbase.py\", line 281, in dispatcher\n    return self.dispatch_shell(stream, msg)\n  File \"/home/ubuntu/anaconda3/envs/tensorflow_p27/lib/python2.7/site-packages/ipykernel/kernelbase.py\", line 232, in dispatch_shell\n    handler(stream, idents, msg)\n  File \"/home/ubuntu/anaconda3/envs/tensorflow_p27/lib/python2.7/site-packages/ipykernel/kernelbase.py\", line 397, in execute_request\n    user_expressions, allow_stdin)\n  File \"/home/ubuntu/anaconda3/envs/tensorflow_p27/lib/python2.7/site-packages/ipykernel/ipkernel.py\", line 208, in do_execute\n    res = shell.run_cell(code, store_history=store_history, silent=silent)\n  File \"/home/ubuntu/anaconda3/envs/tensorflow_p27/lib/python2.7/site-packages/ipykernel/zmqshell.py\", line 533, in run_cell\n    return super(ZMQInteractiveShell, self).run_cell(*args, **kwargs)\n  File \"/home/ubuntu/anaconda3/envs/tensorflow_p27/lib/python2.7/site-packages/IPython/core/interactiveshell.py\", line 2718, in run_cell\n    interactivity=interactivity, compiler=compiler, result=result)\n  File \"/home/ubuntu/anaconda3/envs/tensorflow_p27/lib/python2.7/site-packages/IPython/core/interactiveshell.py\", line 2822, in run_ast_nodes\n    if self.run_code(code, result):\n  File \"/home/ubuntu/anaconda3/envs/tensorflow_p27/lib/python2.7/site-packages/IPython/core/interactiveshell.py\", line 2882, in run_code\n    exec(code_obj, self.user_global_ns, self.user_ns)\n  File \"<ipython-input-2-d19b535c9bd2>\", line 9, in <module>\n    loss, decoded = mk_nn_model(x, y=y, sentp=None, bs=bs)\n  File \"<ipython-input-1-7ec498c5db7e>\", line 114, in mk_nn_model\n    net = tf.reshape(flatenned, [bs, 4, 4, 16])\n  File \"/home/ubuntu/anaconda3/envs/tensorflow_p27/lib/python2.7/site-packages/tensorflow/python/ops/gen_array_ops.py\", line 3938, in reshape\n    \"Reshape\", tensor=tensor, shape=shape, name=name)\n  File \"/home/ubuntu/anaconda3/envs/tensorflow_p27/lib/python2.7/site-packages/tensorflow/python/framework/op_def_library.py\", line 787, in _apply_op_helper\n    op_def=op_def)\n  File \"/home/ubuntu/anaconda3/envs/tensorflow_p27/lib/python2.7/site-packages/tensorflow/python/framework/ops.py\", line 2956, in create_op\n    op_def=op_def)\n  File \"/home/ubuntu/anaconda3/envs/tensorflow_p27/lib/python2.7/site-packages/tensorflow/python/framework/ops.py\", line 1470, in __init__\n    self._traceback = self._graph._extract_stack()  # pylint: disable=protected-access\n\nInvalidArgumentError (see above for traceback): Input to reshape is a tensor with 1280000 values, but the requested shape has 2048\n\t [[Node: Reshape_5 = Reshape[T=DT_FLOAT, Tshape=DT_INT32, _device=\"/job:localhost/replica:0/task:0/device:GPU:0\"](dense_2/Relu, Reshape_5/shape)]]\n\t [[Node: Sigmoid/_19 = _Recv[client_terminated=false, recv_device=\"/job:localhost/replica:0/task:0/device:CPU:0\", send_device=\"/job:localhost/replica:0/task:0/device:GPU:0\", send_device_incarnation=1, tensor_name=\"edge_185_Sigmoid\", tensor_type=DT_FLOAT, _device=\"/job:localhost/replica:0/task:0/device:CPU:0\"]()]]\n",
     "output_type": "error",
     "traceback": [
      "\u001b[0;31m---------------------------------------------------------------------------\u001b[0m",
      "\u001b[0;31mInvalidArgumentError\u001b[0m                      Traceback (most recent call last)",
      "\u001b[0;32m<ipython-input-8-ded28a2a0ca6>\u001b[0m in \u001b[0;36m<module>\u001b[0;34m()\u001b[0m\n\u001b[1;32m     15\u001b[0m \u001b[0;31m# generate decoded image with test data\u001b[0m\u001b[0;34m\u001b[0m\u001b[0;34m\u001b[0m\u001b[0m\n\u001b[1;32m     16\u001b[0m \u001b[0mtest_fd\u001b[0m \u001b[0;34m=\u001b[0m \u001b[0;34m{\u001b[0m\u001b[0mx\u001b[0m\u001b[0;34m:\u001b[0m \u001b[0minput_test\u001b[0m\u001b[0;34m,\u001b[0m \u001b[0my\u001b[0m\u001b[0;34m:\u001b[0m \u001b[0moutput_test\u001b[0m\u001b[0;34m}\u001b[0m\u001b[0;34m\u001b[0m\u001b[0m\n\u001b[0;32m---> 17\u001b[0;31m \u001b[0mdecoded_imgs\u001b[0m \u001b[0;34m=\u001b[0m \u001b[0mdecoded\u001b[0m\u001b[0;34m.\u001b[0m\u001b[0meval\u001b[0m\u001b[0;34m(\u001b[0m\u001b[0mtest_fd\u001b[0m\u001b[0;34m,\u001b[0m \u001b[0msession\u001b[0m\u001b[0;34m=\u001b[0m\u001b[0msess\u001b[0m\u001b[0;34m)\u001b[0m\u001b[0;34m\u001b[0m\u001b[0m\n\u001b[0m\u001b[1;32m     18\u001b[0m \u001b[0;32mprint\u001b[0m\u001b[0;34m(\u001b[0m\u001b[0;34m'loss (test) = '\u001b[0m\u001b[0;34m,\u001b[0m \u001b[0mloss\u001b[0m\u001b[0;34m.\u001b[0m\u001b[0meval\u001b[0m\u001b[0;34m(\u001b[0m\u001b[0mtest_fd\u001b[0m\u001b[0;34m,\u001b[0m \u001b[0msession\u001b[0m\u001b[0;34m=\u001b[0m\u001b[0msess\u001b[0m\u001b[0;34m)\u001b[0m\u001b[0;34m)\u001b[0m\u001b[0;34m\u001b[0m\u001b[0m\n\u001b[1;32m     19\u001b[0m \u001b[0;34m\u001b[0m\u001b[0m\n",
      "\u001b[0;32m/home/ubuntu/anaconda3/envs/tensorflow_p27/lib/python2.7/site-packages/tensorflow/python/framework/ops.pyc\u001b[0m in \u001b[0;36meval\u001b[0;34m(self, feed_dict, session)\u001b[0m\n\u001b[1;32m    568\u001b[0m \u001b[0;34m\u001b[0m\u001b[0m\n\u001b[1;32m    569\u001b[0m     \"\"\"\n\u001b[0;32m--> 570\u001b[0;31m     \u001b[0;32mreturn\u001b[0m \u001b[0m_eval_using_default_session\u001b[0m\u001b[0;34m(\u001b[0m\u001b[0mself\u001b[0m\u001b[0;34m,\u001b[0m \u001b[0mfeed_dict\u001b[0m\u001b[0;34m,\u001b[0m \u001b[0mself\u001b[0m\u001b[0;34m.\u001b[0m\u001b[0mgraph\u001b[0m\u001b[0;34m,\u001b[0m \u001b[0msession\u001b[0m\u001b[0;34m)\u001b[0m\u001b[0;34m\u001b[0m\u001b[0m\n\u001b[0m\u001b[1;32m    571\u001b[0m \u001b[0;34m\u001b[0m\u001b[0m\n\u001b[1;32m    572\u001b[0m   \u001b[0;32mdef\u001b[0m \u001b[0m_dup\u001b[0m\u001b[0;34m(\u001b[0m\u001b[0mself\u001b[0m\u001b[0;34m)\u001b[0m\u001b[0;34m:\u001b[0m\u001b[0;34m\u001b[0m\u001b[0m\n",
      "\u001b[0;32m/home/ubuntu/anaconda3/envs/tensorflow_p27/lib/python2.7/site-packages/tensorflow/python/framework/ops.pyc\u001b[0m in \u001b[0;36m_eval_using_default_session\u001b[0;34m(tensors, feed_dict, graph, session)\u001b[0m\n\u001b[1;32m   4453\u001b[0m                        \u001b[0;34m\"the tensor's graph is different from the session's \"\u001b[0m\u001b[0;34m\u001b[0m\u001b[0m\n\u001b[1;32m   4454\u001b[0m                        \"graph.\")\n\u001b[0;32m-> 4455\u001b[0;31m   \u001b[0;32mreturn\u001b[0m \u001b[0msession\u001b[0m\u001b[0;34m.\u001b[0m\u001b[0mrun\u001b[0m\u001b[0;34m(\u001b[0m\u001b[0mtensors\u001b[0m\u001b[0;34m,\u001b[0m \u001b[0mfeed_dict\u001b[0m\u001b[0;34m)\u001b[0m\u001b[0;34m\u001b[0m\u001b[0m\n\u001b[0m\u001b[1;32m   4456\u001b[0m \u001b[0;34m\u001b[0m\u001b[0m\n\u001b[1;32m   4457\u001b[0m \u001b[0;34m\u001b[0m\u001b[0m\n",
      "\u001b[0;32m/home/ubuntu/anaconda3/envs/tensorflow_p27/lib/python2.7/site-packages/tensorflow/python/client/session.pyc\u001b[0m in \u001b[0;36mrun\u001b[0;34m(self, fetches, feed_dict, options, run_metadata)\u001b[0m\n\u001b[1;32m    887\u001b[0m     \u001b[0;32mtry\u001b[0m\u001b[0;34m:\u001b[0m\u001b[0;34m\u001b[0m\u001b[0m\n\u001b[1;32m    888\u001b[0m       result = self._run(None, fetches, feed_dict, options_ptr,\n\u001b[0;32m--> 889\u001b[0;31m                          run_metadata_ptr)\n\u001b[0m\u001b[1;32m    890\u001b[0m       \u001b[0;32mif\u001b[0m \u001b[0mrun_metadata\u001b[0m\u001b[0;34m:\u001b[0m\u001b[0;34m\u001b[0m\u001b[0m\n\u001b[1;32m    891\u001b[0m         \u001b[0mproto_data\u001b[0m \u001b[0;34m=\u001b[0m \u001b[0mtf_session\u001b[0m\u001b[0;34m.\u001b[0m\u001b[0mTF_GetBuffer\u001b[0m\u001b[0;34m(\u001b[0m\u001b[0mrun_metadata_ptr\u001b[0m\u001b[0;34m)\u001b[0m\u001b[0;34m\u001b[0m\u001b[0m\n",
      "\u001b[0;32m/home/ubuntu/anaconda3/envs/tensorflow_p27/lib/python2.7/site-packages/tensorflow/python/client/session.pyc\u001b[0m in \u001b[0;36m_run\u001b[0;34m(self, handle, fetches, feed_dict, options, run_metadata)\u001b[0m\n\u001b[1;32m   1118\u001b[0m     \u001b[0;32mif\u001b[0m \u001b[0mfinal_fetches\u001b[0m \u001b[0;32mor\u001b[0m \u001b[0mfinal_targets\u001b[0m \u001b[0;32mor\u001b[0m \u001b[0;34m(\u001b[0m\u001b[0mhandle\u001b[0m \u001b[0;32mand\u001b[0m \u001b[0mfeed_dict_tensor\u001b[0m\u001b[0;34m)\u001b[0m\u001b[0;34m:\u001b[0m\u001b[0;34m\u001b[0m\u001b[0m\n\u001b[1;32m   1119\u001b[0m       results = self._do_run(handle, final_targets, final_fetches,\n\u001b[0;32m-> 1120\u001b[0;31m                              feed_dict_tensor, options, run_metadata)\n\u001b[0m\u001b[1;32m   1121\u001b[0m     \u001b[0;32melse\u001b[0m\u001b[0;34m:\u001b[0m\u001b[0;34m\u001b[0m\u001b[0m\n\u001b[1;32m   1122\u001b[0m       \u001b[0mresults\u001b[0m \u001b[0;34m=\u001b[0m \u001b[0;34m[\u001b[0m\u001b[0;34m]\u001b[0m\u001b[0;34m\u001b[0m\u001b[0m\n",
      "\u001b[0;32m/home/ubuntu/anaconda3/envs/tensorflow_p27/lib/python2.7/site-packages/tensorflow/python/client/session.pyc\u001b[0m in \u001b[0;36m_do_run\u001b[0;34m(self, handle, target_list, fetch_list, feed_dict, options, run_metadata)\u001b[0m\n\u001b[1;32m   1315\u001b[0m     \u001b[0;32mif\u001b[0m \u001b[0mhandle\u001b[0m \u001b[0;32mis\u001b[0m \u001b[0mNone\u001b[0m\u001b[0;34m:\u001b[0m\u001b[0;34m\u001b[0m\u001b[0m\n\u001b[1;32m   1316\u001b[0m       return self._do_call(_run_fn, self._session, feeds, fetches, targets,\n\u001b[0;32m-> 1317\u001b[0;31m                            options, run_metadata)\n\u001b[0m\u001b[1;32m   1318\u001b[0m     \u001b[0;32melse\u001b[0m\u001b[0;34m:\u001b[0m\u001b[0;34m\u001b[0m\u001b[0m\n\u001b[1;32m   1319\u001b[0m       \u001b[0;32mreturn\u001b[0m \u001b[0mself\u001b[0m\u001b[0;34m.\u001b[0m\u001b[0m_do_call\u001b[0m\u001b[0;34m(\u001b[0m\u001b[0m_prun_fn\u001b[0m\u001b[0;34m,\u001b[0m \u001b[0mself\u001b[0m\u001b[0;34m.\u001b[0m\u001b[0m_session\u001b[0m\u001b[0;34m,\u001b[0m \u001b[0mhandle\u001b[0m\u001b[0;34m,\u001b[0m \u001b[0mfeeds\u001b[0m\u001b[0;34m,\u001b[0m \u001b[0mfetches\u001b[0m\u001b[0;34m)\u001b[0m\u001b[0;34m\u001b[0m\u001b[0m\n",
      "\u001b[0;32m/home/ubuntu/anaconda3/envs/tensorflow_p27/lib/python2.7/site-packages/tensorflow/python/client/session.pyc\u001b[0m in \u001b[0;36m_do_call\u001b[0;34m(self, fn, *args)\u001b[0m\n\u001b[1;32m   1334\u001b[0m         \u001b[0;32mexcept\u001b[0m \u001b[0mKeyError\u001b[0m\u001b[0;34m:\u001b[0m\u001b[0;34m\u001b[0m\u001b[0m\n\u001b[1;32m   1335\u001b[0m           \u001b[0;32mpass\u001b[0m\u001b[0;34m\u001b[0m\u001b[0m\n\u001b[0;32m-> 1336\u001b[0;31m       \u001b[0;32mraise\u001b[0m \u001b[0mtype\u001b[0m\u001b[0;34m(\u001b[0m\u001b[0me\u001b[0m\u001b[0;34m)\u001b[0m\u001b[0;34m(\u001b[0m\u001b[0mnode_def\u001b[0m\u001b[0;34m,\u001b[0m \u001b[0mop\u001b[0m\u001b[0;34m,\u001b[0m \u001b[0mmessage\u001b[0m\u001b[0;34m)\u001b[0m\u001b[0;34m\u001b[0m\u001b[0m\n\u001b[0m\u001b[1;32m   1337\u001b[0m \u001b[0;34m\u001b[0m\u001b[0m\n\u001b[1;32m   1338\u001b[0m   \u001b[0;32mdef\u001b[0m \u001b[0m_extend_graph\u001b[0m\u001b[0;34m(\u001b[0m\u001b[0mself\u001b[0m\u001b[0;34m)\u001b[0m\u001b[0;34m:\u001b[0m\u001b[0;34m\u001b[0m\u001b[0m\n",
      "\u001b[0;31mInvalidArgumentError\u001b[0m: Input to reshape is a tensor with 1280000 values, but the requested shape has 2048\n\t [[Node: Reshape_5 = Reshape[T=DT_FLOAT, Tshape=DT_INT32, _device=\"/job:localhost/replica:0/task:0/device:GPU:0\"](dense_2/Relu, Reshape_5/shape)]]\n\t [[Node: Sigmoid/_19 = _Recv[client_terminated=false, recv_device=\"/job:localhost/replica:0/task:0/device:CPU:0\", send_device=\"/job:localhost/replica:0/task:0/device:GPU:0\", send_device_incarnation=1, tensor_name=\"edge_185_Sigmoid\", tensor_type=DT_FLOAT, _device=\"/job:localhost/replica:0/task:0/device:CPU:0\"]()]]\n\nCaused by op u'Reshape_5', defined at:\n  File \"/home/ubuntu/anaconda3/envs/tensorflow_p27/lib/python2.7/runpy.py\", line 174, in _run_module_as_main\n    \"__main__\", fname, loader, pkg_name)\n  File \"/home/ubuntu/anaconda3/envs/tensorflow_p27/lib/python2.7/runpy.py\", line 72, in _run_code\n    exec code in run_globals\n  File \"/home/ubuntu/anaconda3/envs/tensorflow_p27/lib/python2.7/site-packages/ipykernel/__main__.py\", line 3, in <module>\n    app.launch_new_instance()\n  File \"/home/ubuntu/anaconda3/envs/tensorflow_p27/lib/python2.7/site-packages/traitlets/config/application.py\", line 658, in launch_instance\n    app.start()\n  File \"/home/ubuntu/anaconda3/envs/tensorflow_p27/lib/python2.7/site-packages/ipykernel/kernelapp.py\", line 478, in start\n    self.io_loop.start()\n  File \"/home/ubuntu/anaconda3/envs/tensorflow_p27/lib/python2.7/site-packages/zmq/eventloop/ioloop.py\", line 177, in start\n    super(ZMQIOLoop, self).start()\n  File \"/home/ubuntu/anaconda3/envs/tensorflow_p27/lib/python2.7/site-packages/tornado/ioloop.py\", line 888, in start\n    handler_func(fd_obj, events)\n  File \"/home/ubuntu/anaconda3/envs/tensorflow_p27/lib/python2.7/site-packages/tornado/stack_context.py\", line 277, in null_wrapper\n    return fn(*args, **kwargs)\n  File \"/home/ubuntu/anaconda3/envs/tensorflow_p27/lib/python2.7/site-packages/zmq/eventloop/zmqstream.py\", line 440, in _handle_events\n    self._handle_recv()\n  File \"/home/ubuntu/anaconda3/envs/tensorflow_p27/lib/python2.7/site-packages/zmq/eventloop/zmqstream.py\", line 472, in _handle_recv\n    self._run_callback(callback, msg)\n  File \"/home/ubuntu/anaconda3/envs/tensorflow_p27/lib/python2.7/site-packages/zmq/eventloop/zmqstream.py\", line 414, in _run_callback\n    callback(*args, **kwargs)\n  File \"/home/ubuntu/anaconda3/envs/tensorflow_p27/lib/python2.7/site-packages/tornado/stack_context.py\", line 277, in null_wrapper\n    return fn(*args, **kwargs)\n  File \"/home/ubuntu/anaconda3/envs/tensorflow_p27/lib/python2.7/site-packages/ipykernel/kernelbase.py\", line 281, in dispatcher\n    return self.dispatch_shell(stream, msg)\n  File \"/home/ubuntu/anaconda3/envs/tensorflow_p27/lib/python2.7/site-packages/ipykernel/kernelbase.py\", line 232, in dispatch_shell\n    handler(stream, idents, msg)\n  File \"/home/ubuntu/anaconda3/envs/tensorflow_p27/lib/python2.7/site-packages/ipykernel/kernelbase.py\", line 397, in execute_request\n    user_expressions, allow_stdin)\n  File \"/home/ubuntu/anaconda3/envs/tensorflow_p27/lib/python2.7/site-packages/ipykernel/ipkernel.py\", line 208, in do_execute\n    res = shell.run_cell(code, store_history=store_history, silent=silent)\n  File \"/home/ubuntu/anaconda3/envs/tensorflow_p27/lib/python2.7/site-packages/ipykernel/zmqshell.py\", line 533, in run_cell\n    return super(ZMQInteractiveShell, self).run_cell(*args, **kwargs)\n  File \"/home/ubuntu/anaconda3/envs/tensorflow_p27/lib/python2.7/site-packages/IPython/core/interactiveshell.py\", line 2718, in run_cell\n    interactivity=interactivity, compiler=compiler, result=result)\n  File \"/home/ubuntu/anaconda3/envs/tensorflow_p27/lib/python2.7/site-packages/IPython/core/interactiveshell.py\", line 2822, in run_ast_nodes\n    if self.run_code(code, result):\n  File \"/home/ubuntu/anaconda3/envs/tensorflow_p27/lib/python2.7/site-packages/IPython/core/interactiveshell.py\", line 2882, in run_code\n    exec(code_obj, self.user_global_ns, self.user_ns)\n  File \"<ipython-input-2-d19b535c9bd2>\", line 9, in <module>\n    loss, decoded = mk_nn_model(x, y=y, sentp=None, bs=bs)\n  File \"<ipython-input-1-7ec498c5db7e>\", line 114, in mk_nn_model\n    net = tf.reshape(flatenned, [bs, 4, 4, 16])\n  File \"/home/ubuntu/anaconda3/envs/tensorflow_p27/lib/python2.7/site-packages/tensorflow/python/ops/gen_array_ops.py\", line 3938, in reshape\n    \"Reshape\", tensor=tensor, shape=shape, name=name)\n  File \"/home/ubuntu/anaconda3/envs/tensorflow_p27/lib/python2.7/site-packages/tensorflow/python/framework/op_def_library.py\", line 787, in _apply_op_helper\n    op_def=op_def)\n  File \"/home/ubuntu/anaconda3/envs/tensorflow_p27/lib/python2.7/site-packages/tensorflow/python/framework/ops.py\", line 2956, in create_op\n    op_def=op_def)\n  File \"/home/ubuntu/anaconda3/envs/tensorflow_p27/lib/python2.7/site-packages/tensorflow/python/framework/ops.py\", line 1470, in __init__\n    self._traceback = self._graph._extract_stack()  # pylint: disable=protected-access\n\nInvalidArgumentError (see above for traceback): Input to reshape is a tensor with 1280000 values, but the requested shape has 2048\n\t [[Node: Reshape_5 = Reshape[T=DT_FLOAT, Tshape=DT_INT32, _device=\"/job:localhost/replica:0/task:0/device:GPU:0\"](dense_2/Relu, Reshape_5/shape)]]\n\t [[Node: Sigmoid/_19 = _Recv[client_terminated=false, recv_device=\"/job:localhost/replica:0/task:0/device:CPU:0\", send_device=\"/job:localhost/replica:0/task:0/device:GPU:0\", send_device_incarnation=1, tensor_name=\"edge_185_Sigmoid\", tensor_type=DT_FLOAT, _device=\"/job:localhost/replica:0/task:0/device:CPU:0\"]()]]\n"
     ]
    }
   ],
   "source": [
    "\n",
    "print('Training...')\n",
    "for i in range(300000):\n",
    "    if j+bs >= len(input_test):\n",
    "        j=0\n",
    "    batch_xs = input_img[j:j+bs]\n",
    "    batch_ys = output_img[j:j+bs]\n",
    "    batch_sent = sent_inp[j:j+bs]\n",
    "    train_step.run({x: batch_xs, y: batch_ys}, session=sess)\n",
    "    if i % 500 == 0:\n",
    "        train_loss= loss.eval({x: batch_xs, y: batch_ys}, session=sess)\n",
    "        print('  step, loss = %7d: %6.5f' % (i, train_loss))\n",
    "    j+=bs\n",
    "\n",
    "# generate decoded image with test data\n",
    "test_fd = {x: input_test[:bs], y: output_test[:bs]}\n",
    "decoded_imgs = decoded.eval(test_fd, session=sess)\n",
    "print('loss (test) = ', loss.eval(test_fd, session=sess))\n",
    "\n"
   ]
  },
  {
   "cell_type": "code",
   "execution_count": 9,
   "metadata": {},
   "outputs": [
    {
     "name": "stdout",
     "output_type": "stream",
     "text": [
      "0.216386101818\n"
     ]
    }
   ],
   "source": [
    "test_loss = 0.0\n",
    "nbatches = 0.0\n",
    "decoded_imgs = []\n",
    "\n",
    "j=0\n",
    "while j+bs < len(input_test):\n",
    "    test_fd = {x: input_test[j:j+bs], y: output_test[j:j+bs]}\n",
    "    if nbatches<100:\n",
    "        decoded_imgs.append(decoded.eval(test_fd, session=sess))\n",
    "    test_loss += loss.eval(test_fd, session=sess)\n",
    "    \n",
    "    nbatches+=1\n",
    "    j+=bs\n",
    "# generate decoded image with test data\n",
    "\n",
    "test_loss /= nbatches\n",
    "decoded_imgs = np.array(decoded_imgs)\n",
    "\n",
    "print (test_loss)"
   ]
  },
  {
   "cell_type": "code",
   "execution_count": 10,
   "metadata": {},
   "outputs": [],
   "source": [
    "decoded_imgs = decoded_imgs.reshape((-1,64, 64, 3))"
   ]
  },
  {
   "cell_type": "code",
   "execution_count": 11,
   "metadata": {
    "scrolled": true
   },
   "outputs": [
    {
     "data": {
      "image/png": "[encoded data removed]",
      "text/plain": [
       "<matplotlib.figure.Figure at 0x7fdde4dc7450>"
      ]
     },
     "metadata": {},
     "output_type": "display_data"
    },
    {
     "data": {
      "image/png": "[encoded data removed]",
      "text/plain": [
       "<matplotlib.figure.Figure at 0x7fe0f8278590>"
      ]
     },
     "metadata": {},
     "output_type": "display_data"
    },
    {
     "data": {
      "image/png": "[encoded data removed]",
      "text/plain": [
       "<matplotlib.figure.Figure at 0x7fdde4d9c250>"
      ]
     },
     "metadata": {},
     "output_type": "display_data"
    },
    {
     "data": {
      "image/png": "[encoded data removed]",
      "text/plain": [
       "<matplotlib.figure.Figure at 0x7fdde4c2dd50>"
      ]
     },
     "metadata": {},
     "output_type": "display_data"
    },
    {
     "data": {
      "image/png": "[encoded data removed]",
      "text/plain": [
       "<matplotlib.figure.Figure at 0x7fdde4c061d0>"
      ]
     },
     "metadata": {},
     "output_type": "display_data"
    },
    {
     "data": {
      "image/png": "[encoded data removed]",
      "text/plain": [
       "<matplotlib.figure.Figure at 0x7fdde4c73390>"
      ]
     },
     "metadata": {},
     "output_type": "display_data"
    },
    {
     "data": {
      "image/png": "[encoded data removed]",
      "text/plain": [
       "<matplotlib.figure.Figure at 0x7fdde47c0810>"
      ]
     },
     "metadata": {},
     "output_type": "display_data"
    },
    {
     "data": {
      "image/png": "[encoded data removed]",
      "text/plain": [
       "<matplotlib.figure.Figure at 0x7fdde46060d0>"
      ]
     },
     "metadata": {},
     "output_type": "display_data"
    },
    {
     "data": {
      "image/png": "[encoded data removed]",
      "text/plain": [
       "<matplotlib.figure.Figure at 0x7fdde4c06fd0>"
      ]
     },
     "metadata": {},
     "output_type": "display_data"
    },
    {
     "data": {
      "image/png": "[encoded data removed]",
      "text/plain": [
       "<matplotlib.figure.Figure at 0x7fdde45b01d0>"
      ]
     },
     "metadata": {},
     "output_type": "display_data"
    },
    {
     "data": {
      "image/png": "[encoded data removed]",
      "text/plain": [
       "<matplotlib.figure.Figure at 0x7fdde46410d0>"
      ]
     },
     "metadata": {},
     "output_type": "display_data"
    },
    {
     "data": {
      "image/png": "[encoded data removed]",
      "text/plain": [
       "<matplotlib.figure.Figure at 0x7fdde4639310>"
      ]
     },
     "metadata": {},
     "output_type": "display_data"
    },
    {
     "data": {
      "image/png": "[encoded data removed]",
      "text/plain": [
       "<matplotlib.figure.Figure at 0x7fdde45b0550>"
      ]
     },
     "metadata": {},
     "output_type": "display_data"
    },
    {
     "data": {
      "image/png": "[encoded data removed]",
      "text/plain": [
       "<matplotlib.figure.Figure at 0x7fdde4623cd0>"
      ]
     },
     "metadata": {},
     "output_type": "display_data"
    },
    {
     "data": {
      "image/png": "[encoded data removed]",
      "text/plain": [
       "<matplotlib.figure.Figure at 0x7fdde4641210>"
      ]
     },
     "metadata": {},
     "output_type": "display_data"
    },
    {
     "data": {
      "image/png": "[encoded data removed]",
      "text/plain": [
       "<matplotlib.figure.Figure at 0x7fdde480ccd0>"
      ]
     },
     "metadata": {},
     "output_type": "display_data"
    },
    {
     "data": {
      "image/png": "[encoded data removed]",
      "text/plain": [
       "<matplotlib.figure.Figure at 0x7fdde4651e10>"
      ]
     },
     "metadata": {},
     "output_type": "display_data"
    },
    {
     "data": {
      "image/png": "[encoded data removed]",
      "text/plain": [
       "<matplotlib.figure.Figure at 0x7fdde4809b90>"
      ]
     },
     "metadata": {},
     "output_type": "display_data"
    },
    {
     "data": {
      "image/png": "[encoded data removed]",
      "text/plain": [
       "<matplotlib.figure.Figure at 0x7fdde4c22410>"
      ]
     },
     "metadata": {},
     "output_type": "display_data"
    },
    {
     "data": {
      "image/png": "[encoded data removed]",
      "text/plain": [
       "<matplotlib.figure.Figure at 0x7fdde4276890>"
      ]
     },
     "metadata": {},
     "output_type": "display_data"
    },
    {
     "data": {
      "image/png": "[encoded data removed]",
      "text/plain": [
       "<matplotlib.figure.Figure at 0x7fdde41ee650>"
      ]
     },
     "metadata": {},
     "output_type": "display_data"
    },
    {
     "data": {
      "image/png": "[encoded data removed]",
      "text/plain": [
       "<matplotlib.figure.Figure at 0x7fdde4172250>"
      ]
     },
     "metadata": {},
     "output_type": "display_data"
    },
    {
     "data": {
      "image/png": "[encoded data removed]",
      "text/plain": [
       "<matplotlib.figure.Figure at 0x7fdde41a8e50>"
      ]
     },
     "metadata": {},
     "output_type": "display_data"
    },
    {
     "data": {
      "image/png": "[encoded data removed]",
      "text/plain": [
       "<matplotlib.figure.Figure at 0x7fdde4239390>"
      ]
     },
     "metadata": {},
     "output_type": "display_data"
    },
    {
     "data": {
      "text/plain": [
       "<matplotlib.figure.Figure at 0x7fdde4dc7410>"
      ]
     },
     "metadata": {},
     "output_type": "display_data"
    }
   ],
   "source": [
    "\n",
    "x_test = input_test\n",
    "y_test = output_test\n",
    "n = bs  # how many digits we will display\n",
    "# plt.figure(figsize=(20, 4))\n",
    "\n",
    "\n",
    "for i in range(n):\n",
    "#     ax = plt.subplot(2, n, i + 1)\n",
    "    plt.imshow(np.array(x_test[i]*255, dtype=np.uint8))\n",
    "    plt.show()\n",
    "    plt.imshow(np.array(y_test[i]*255, dtype=np.uint8))\n",
    "#     plt.gray()\n",
    "#     ax.get_xaxis().set_visible(False)\n",
    "#     ax.get_yaxis().set_visible(False)\n",
    "    plt.show()\n",
    "    # display reconstruction\n",
    "#     ax = plt.subplot(2, n, i + 1 + n)\n",
    "    plt.imshow(np.array(decoded_imgs[i]*255, dtype=np.uint8))\n",
    "#     plt.gray()\n",
    "#     ax.get_xaxis().set_visible(False)\n",
    "#     ax.get_yaxis().set_visible(False)\n",
    "    plt.show()\n",
    "\n",
    "    \n",
    "#plt.show()\n",
    "plt.savefig('mnist_ae2.png')\n"
   ]
  },
  {
   "cell_type": "code",
   "execution_count": null,
   "metadata": {},
   "outputs": [],
   "source": []
  },
  {
   "cell_type": "code",
   "execution_count": 12,
   "metadata": {},
   "outputs": [
    {
     "name": "stdout",
     "output_type": "stream",
     "text": [
      "140043\n"
     ]
    }
   ],
   "source": [
    "total_parameters = 0\n",
    "for variable in tf.trainable_variables():\n",
    "    # shape is an array of tf.Dimension\n",
    "    shape = variable.get_shape()\n",
    "#     print(shape)\n",
    "#     print(len(shape))\n",
    "    variable_parameters = 1\n",
    "    for dim in shape:\n",
    "#         print(dim)\n",
    "        variable_parameters *= dim.value\n",
    "#     print(variable_parameters)\n",
    "    total_parameters += variable_parameters\n",
    "print(total_parameters)"
   ]
  },
  {
   "cell_type": "code",
   "execution_count": null,
   "metadata": {},
   "outputs": [],
   "source": []
  },
  {
   "cell_type": "code",
   "execution_count": 13,
   "metadata": {},
   "outputs": [
    {
     "data": {
      "text/plain": [
       "'train808NoSentModel/train808NoSent.chkp'"
      ]
     },
     "execution_count": 13,
     "metadata": {},
     "output_type": "execute_result"
    }
   ],
   "source": [
    "saver = tf.train.Saver() \n",
    "saver.save(sess, 'train808NoSentModel/train808NoSent.chkp')\n",
    "\n",
    "# Then you'll be able to access the model:\n",
    "\n",
    "# sess = tf.Session()\n",
    "# saver = tf.train.Saver()\n",
    "# saver.restore(sess, 'filename.chkp')"
   ]
  },
  {
   "cell_type": "code",
   "execution_count": null,
   "metadata": {},
   "outputs": [],
   "source": []
  },
  {
   "cell_type": "code",
   "execution_count": null,
   "metadata": {},
   "outputs": [],
   "source": []
  }
 ],
 "metadata": {
  "kernelspec": {
   "display_name": "Python [default]",
   "language": "python",
   "name": "python2"
  },
  "language_info": {
   "codemirror_mode": {
    "name": "ipython",
    "version": 2
   },
   "file_extension": ".py",
   "mimetype": "text/x-python",
   "name": "python",
   "nbconvert_exporter": "python",
   "pygments_lexer": "ipython2",
   "version": "2.7.14"
  }
 },
 "nbformat": 4,
 "nbformat_minor": 2
}
